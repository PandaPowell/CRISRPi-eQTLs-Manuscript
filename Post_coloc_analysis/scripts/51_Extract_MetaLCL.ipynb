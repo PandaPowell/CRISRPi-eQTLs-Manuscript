{
 "cells": [
  {
   "cell_type": "code",
   "execution_count": 1,
   "id": "950b9828-c6ef-4eb7-ad28-983015762a4b",
   "metadata": {},
   "outputs": [],
   "source": [
    "import duckdb\n",
    "import glob\n",
    "import pandas as pd\n",
    "from joblib import Parallel, delayed\n",
    "\n",
    "# Load Gasperini cis-genes with trans hits\n",
    "gas_df = pd.read_csv(\"/gpfs/commons/groups/lappalainen_lab/woliveros/231005_OneK1K/analysis/02_QTL_calling/genes_cis_w_trans.txt\", sep='\\t', header=None)\n",
    "gas_cis_genes = set(gas_df[0].tolist())  # Convert to sorted list\n",
    "\n",
    "# Load morris cis-genes with trans hits\n",
    "trans_network_john = pd.read_excel(\"/gpfs/commons/groups/lappalainen_lab/woliveros/231005_OneK1K/data/science.adh7699_table_s4.xlsx\", skiprows=2)\n",
    "\n",
    "morrs_cis_genes = [\"GFI1B\", \"NFE2\", \"IKZF1\", \"HHEX\", \"RUNX1\"]\n",
    "\n",
    "# Load MAGE fine-mapped cis-genes\n",
    "file_path = \"/gpfs/commons/groups/lappalainen_lab/sghatan/stingseq_eqtl_overlap/data/MAGE/MAGE.v1.0.data/QTL_results/eQTL_results/eQTL_finemapping_results/eQTL_finemapping.significantAssociations.MAGE.v1.0.txt.gz\"\n",
    "mage = pd.read_csv(file_path, compression='gzip', sep='\\t', low_memory=False)\n",
    "\n",
    "# Filter for cis-genes\n",
    "filtered_mage = mage[mage[\"geneSymbol\"].isin(gas_cis_genes.union(morrs_cis_genes))]"
   ]
  },
  {
   "cell_type": "code",
   "execution_count": null,
   "id": "8e1bb489-7c30-4bfd-a9ce-2a1d8c08e28e",
   "metadata": {},
   "outputs": [
    {
     "name": "stdout",
     "output_type": "stream",
     "text": [
      "Processing file /gpfs/commons/groups/lappalainen_lab/sghatan/stingseq_eqtl_overlap/data/MetaLCL/Liang_2013_ALSPAC_CAP_eur_GENCORD_GEUVADIS_GTEx_TwinsUK_CoLausR2_naive_LCL_metaanalysis_ENSG00000145833_id.parquet\n",
      "Processing file /gpfs/commons/groups/lappalainen_lab/sghatan/stingseq_eqtl_overlap/data/MetaLCL/Liang_2013_ALSPAC_CAP_eur_GENCORD_GEUVADIS_GTEx_TwinsUK_CoLausR2_naive_LCL_metaanalysis_ENSG00000204666_id.parquet\n",
      "Processing file /gpfs/commons/groups/lappalainen_lab/sghatan/stingseq_eqtl_overlap/data/MetaLCL/Liang_2013_ALSPAC_CAP_eur_GENCORD_GEUVADIS_GTEx_TwinsUK_CoLausR2_naive_LCL_metaanalysis_ENSG00000187713_id.parquet\n",
      "Processing file /gpfs/commons/groups/lappalainen_lab/sghatan/stingseq_eqtl_overlap/data/MetaLCL/Liang_2013_ALSPAC_CAP_eur_GENCORD_GEUVADIS_GTEx_TwinsUK_CoLausR2_naive_LCL_metaanalysis_ENSG00000165948_id.parquet\n",
      "Processing file /gpfs/commons/groups/lappalainen_lab/sghatan/stingseq_eqtl_overlap/data/MetaLCL/Liang_2013_ALSPAC_CAP_eur_GENCORD_GEUVADIS_GTEx_TwinsUK_CoLausR2_naive_LCL_metaanalysis_ENSG00000132466_id.parquet\n",
      "Processing file /gpfs/commons/groups/lappalainen_lab/sghatan/stingseq_eqtl_overlap/data/MetaLCL/Liang_2013_ALSPAC_CAP_eur_GENCORD_GEUVADIS_GTEx_TwinsUK_CoLausR2_naive_LCL_metaanalysis_ENSG00000272989_id.parquet\n",
      "Processing file /gpfs/commons/groups/lappalainen_lab/sghatan/stingseq_eqtl_overlap/data/MetaLCL/Liang_2013_ALSPAC_CAP_eur_GENCORD_GEUVADIS_GTEx_TwinsUK_CoLausR2_naive_LCL_metaanalysis_ENSG00000100603_id.parquet\n",
      "Processing file /gpfs/commons/groups/lappalainen_lab/sghatan/stingseq_eqtl_overlap/data/MetaLCL/Liang_2013_ALSPAC_CAP_eur_GENCORD_GEUVADIS_GTEx_TwinsUK_CoLausR2_naive_LCL_metaanalysis_ENSG00000125977_id.parquet\n",
      "Processing file /gpfs/commons/groups/lappalainen_lab/sghatan/stingseq_eqtl_overlap/data/MetaLCL/Liang_2013_ALSPAC_CAP_eur_GENCORD_GEUVADIS_GTEx_TwinsUK_CoLausR2_naive_LCL_metaanalysis_ENSG00000276188_id.parquet\n",
      "Processing file /gpfs/commons/groups/lappalainen_lab/sghatan/stingseq_eqtl_overlap/data/MetaLCL/Liang_2013_ALSPAC_CAP_eur_GENCORD_GEUVADIS_GTEx_TwinsUK_CoLausR2_naive_LCL_metaanalysis_ENSG00000285994_id.parquet\n",
      "Processing file /gpfs/commons/groups/lappalainen_lab/sghatan/stingseq_eqtl_overlap/data/MetaLCL/Liang_2013_ALSPAC_CAP_eur_GENCORD_GEUVADIS_GTEx_TwinsUK_CoLausR2_naive_LCL_metaanalysis_ENSG00000138674_id.parquet\n",
      "Processing file /gpfs/commons/groups/lappalainen_lab/sghatan/stingseq_eqtl_overlap/data/MetaLCL/Liang_2013_ALSPAC_CAP_eur_GENCORD_GEUVADIS_GTEx_TwinsUK_CoLausR2_naive_LCL_metaanalysis_ENSG00000139133_id.parquet\n",
      "Processing file /gpfs/commons/groups/lappalainen_lab/sghatan/stingseq_eqtl_overlap/data/MetaLCL/Liang_2013_ALSPAC_CAP_eur_GENCORD_GEUVADIS_GTEx_TwinsUK_CoLausR2_naive_LCL_metaanalysis_ENSG00000115844_id.parquet\n",
      "Processing file /gpfs/commons/groups/lappalainen_lab/sghatan/stingseq_eqtl_overlap/data/MetaLCL/Liang_2013_ALSPAC_CAP_eur_GENCORD_GEUVADIS_GTEx_TwinsUK_CoLausR2_naive_LCL_metaanalysis_ENSG00000278857_id.parquet\n",
      "Processing file /gpfs/commons/groups/lappalainen_lab/sghatan/stingseq_eqtl_overlap/data/MetaLCL/Liang_2013_ALSPAC_CAP_eur_GENCORD_GEUVADIS_GTEx_TwinsUK_CoLausR2_naive_LCL_metaanalysis_ENSG00000105281_id.parquet\n",
      "Processing file /gpfs/commons/groups/lappalainen_lab/sghatan/stingseq_eqtl_overlap/data/MetaLCL/Liang_2013_ALSPAC_CAP_eur_GENCORD_GEUVADIS_GTEx_TwinsUK_CoLausR2_naive_LCL_metaanalysis_ENSG00000254340_id.parquet\n",
      "Processing file /gpfs/commons/groups/lappalainen_lab/sghatan/stingseq_eqtl_overlap/data/MetaLCL/Liang_2013_ALSPAC_CAP_eur_GENCORD_GEUVADIS_GTEx_TwinsUK_CoLausR2_naive_LCL_metaanalysis_ENSG00000170846_id.parquet\n",
      "Processing file /gpfs/commons/groups/lappalainen_lab/sghatan/stingseq_eqtl_overlap/data/MetaLCL/Liang_2013_ALSPAC_CAP_eur_GENCORD_GEUVADIS_GTEx_TwinsUK_CoLausR2_naive_LCL_metaanalysis_ENSG00000109919_id.parquet\n",
      "Processing file /gpfs/commons/groups/lappalainen_lab/sghatan/stingseq_eqtl_overlap/data/MetaLCL/Liang_2013_ALSPAC_CAP_eur_GENCORD_GEUVADIS_GTEx_TwinsUK_CoLausR2_naive_LCL_metaanalysis_ENSG00000265749_id.parquet\n",
      "Processing file /gpfs/commons/groups/lappalainen_lab/sghatan/stingseq_eqtl_overlap/data/MetaLCL/Liang_2013_ALSPAC_CAP_eur_GENCORD_GEUVADIS_GTEx_TwinsUK_CoLausR2_naive_LCL_metaanalysis_ENSG00000248367_id.parquet\n",
      "Processing file /gpfs/commons/groups/lappalainen_lab/sghatan/stingseq_eqtl_overlap/data/MetaLCL/Liang_2013_ALSPAC_CAP_eur_GENCORD_GEUVADIS_GTEx_TwinsUK_CoLausR2_naive_LCL_metaanalysis_ENSG00000143458_id.parquet\n",
      "Processing file /gpfs/commons/groups/lappalainen_lab/sghatan/stingseq_eqtl_overlap/data/MetaLCL/Liang_2013_ALSPAC_CAP_eur_GENCORD_GEUVADIS_GTEx_TwinsUK_CoLausR2_naive_LCL_metaanalysis_ENSG00000274591_id.parquet\n",
      "Processing file /gpfs/commons/groups/lappalainen_lab/sghatan/stingseq_eqtl_overlap/data/MetaLCL/Liang_2013_ALSPAC_CAP_eur_GENCORD_GEUVADIS_GTEx_TwinsUK_CoLausR2_naive_LCL_metaanalysis_ENSG00000171119_id.parquet\n",
      "Processing file /gpfs/commons/groups/lappalainen_lab/sghatan/stingseq_eqtl_overlap/data/MetaLCL/Liang_2013_ALSPAC_CAP_eur_GENCORD_GEUVADIS_GTEx_TwinsUK_CoLausR2_naive_LCL_metaanalysis_ENSG00000137871_id.parquet\n"
     ]
    }
   ],
   "source": [
    "# Directory containing Parquet files\n",
    "parquet_dir = \"/gpfs/commons/groups/lappalainen_lab/sghatan/stingseq_eqtl_overlap/data/MetaLCL/\"\n",
    "parquet_files = glob.glob(parquet_dir + \"*.parquet\")\n",
    "\n",
    "# Convert chromosome names safely\n",
    "filtered_mage = filtered_mage.assign(variantChrom=filtered_mage[\"variantChrom\"].str.replace(\"chr\", \"\", regex=True))\n",
    "\n",
    "# Generate WHERE clause for filtering\n",
    "conditions = \" OR \".join(\n",
    "    [f\"(CAST(chromosome AS STRING) = '{row.variantChrom}' AND position = {row.variantPosition})\"\n",
    "     for _, row in filtered_mage.iterrows()]\n",
    ")\n",
    "\n",
    "def process_parquet(file):\n",
    "    \"\"\"Process a single Parquet file and return filtered results.\"\"\"\n",
    "    print(f\"Processing file {file}\", flush=True)\n",
    "    try:\n",
    "        query = f\"\"\"\n",
    "        SELECT * FROM parquet_scan('{file}')\n",
    "        WHERE {conditions}\n",
    "        \"\"\"\n",
    "        df = duckdb.query(query).to_df()\n",
    "\n",
    "        if not df.empty:\n",
    "            df[\"chromosome\"] = df[\"chromosome\"].astype(str)\n",
    "            filtered_mage[\"variantChrom\"] = filtered_mage[\"variantChrom\"].astype(str)\n",
    "\n",
    "            # Merge additional columns\n",
    "            df_merged = df.merge(filtered_mage, left_on=[\"chromosome\", \"position\"],\n",
    "                                 right_on=[\"variantChrom\", \"variantPosition\"], how=\"left\")\n",
    "\n",
    "            df_merged.drop(columns=[\"variantChrom\", \"variantPosition\"], inplace=True)\n",
    "\n",
    "            if \"nlog10p\" in df_merged.columns and \"molecular_trait_id\" in df_merged.columns and \"geneSymbol\" in df_merged.columns:\n",
    "                df_unique = df_merged.loc[df_merged.groupby([\"molecular_trait_id\", \"geneSymbol\"])[\"nlog10p\"].idxmax()]\n",
    "                df_unique = df_unique.rename(columns={\"geneSymbol\": \"cis_gene\"})\n",
    "                return df_unique\n",
    "\n",
    "        return None\n",
    "\n",
    "    except Exception as e:\n",
    "        print(f\"Error processing {file}: {e}\")\n",
    "        return None\n",
    "\n",
    "# Parallel execution\n",
    "num_cores = 16  # Adjust this based on available resources\n",
    "filtered_data = Parallel(n_jobs=num_cores)(delayed(process_parquet)(file) for file in parquet_files)\n",
    "\n",
    "# Filter out None values\n",
    "filtered_data = [df for df in filtered_data if df is not None]\n",
    "\n",
    "# Combine results\n",
    "if filtered_data:\n",
    "    final_df = pd.concat(filtered_data, ignore_index=True)\n",
    "    final_df.to_parquet(\"MetaLCL_extracted_transQTLs.parquet\", index=False)\n",
    "    print(f\"Extracted {len(final_df)} rows and saved to 'MetaLCL_extracted_transQTLs.parquet'.\")\n",
    "else:\n",
    "    print(\"No matching rows found in any file.\")"
   ]
  },
  {
   "cell_type": "code",
   "execution_count": 2,
   "id": "9b330c20-128f-4330-b63a-87d7c31846c5",
   "metadata": {},
   "outputs": [
    {
     "name": "stdout",
     "output_type": "stream",
     "text": [
      "  chromosome   position ref alt molecular_trait_id      beta        se  \\\n",
      "0          1   26744132   T   C    ENSG00000165948  0.066331  0.063983   \n",
      "1          3  141911880   A   G    ENSG00000165948 -0.032947  0.021626   \n",
      "2          5   73512144   G   C    ENSG00000165948  0.092451  0.045834   \n",
      "3         10  123154480   C   T    ENSG00000165948 -0.030976  0.035349   \n",
      "4          2   46636733   A   C    ENSG00000165948  0.016676  0.020797   \n",
      "\n",
      "    nlog10p  n_datasets  sample_size           ac variantRef variantAlt  \\\n",
      "0  0.523071           5         2062   144.687321          T          C   \n",
      "1  0.894017           7         2926  1729.419344          A          G   \n",
      "2  1.359703           7         2926   313.619613          G          C   \n",
      "3  0.419219           7         2926   677.017906          C          T   \n",
      "4  0.374041           7         2926  2501.307250          A          C   \n",
      "\n",
      "      variant_kgpID variant_rsID           ensemblID cis_gene  variantPIP  \\\n",
      "0    1:26744132:T:C   rs60348497  ENSG00000117713.20   ARID1A    1.000000   \n",
      "1   3:141911880:A:G    rs6799078  ENSG00000069849.11   ATP1B3    0.046895   \n",
      "2    5:73512145:G:C         None  ENSG00000145741.16     BTF3    0.006316   \n",
      "3  10:123154480:C:T    rs7897156  ENSG00000154473.18     BUB3    0.117143   \n",
      "4    2:46636733:A:C    rs6544906   ENSG00000119878.6    CRIPT    0.057796   \n",
      "\n",
      "  variantCredibleSet  \n",
      "0                 L1  \n",
      "1                 L2  \n",
      "2                 L1  \n",
      "3                 L1  \n",
      "4                 L1  \n"
     ]
    }
   ],
   "source": [
    "# Query the first 5 rows directly\n",
    "result = duckdb.sql(\"SELECT * FROM 'MetaLCL_extracted_transQTLs.parquet' LIMIT 5\").df()\n",
    "\n",
    "# Display result\n",
    "print(result)\n",
    "\n",
    "# nlog10p of 1.30103 = 0.05"
   ]
  },
  {
   "cell_type": "code",
   "execution_count": 5,
   "id": "7184ffc0-4003-4cc2-b435-de0cadb630d0",
   "metadata": {},
   "outputs": [
    {
     "name": "stdout",
     "output_type": "stream",
     "text": [
      "     variantChrom  variantPosition variantRef variantAlt   variant_kgpID  \\\n",
      "3682         chr1         26744132          T          C  1:26744132:T:C   \n",
      "3725         chr1         27914572          G          A  1:27914572:G:A   \n",
      "4217         chr1         31256672          C          A  1:31256672:C:A   \n",
      "4220         chr1         31262460          G          A  1:31262460:G:A   \n",
      "4234         chr1         31284596          G          A  1:31284596:G:A   \n",
      "\n",
      "     variant_rsID           ensemblID geneSymbol  variantPIP  \\\n",
      "3682   rs60348497  ENSG00000117713.20     ARID1A    1.000000   \n",
      "3725   rs17185052  ENSG00000117748.10       RPA2    0.962628   \n",
      "4217   rs13375401  ENSG00000060688.13    SNRNP40    0.028630   \n",
      "4220  rs149520056  ENSG00000060688.13    SNRNP40    0.028630   \n",
      "4234  rs116587623  ENSG00000060688.13    SNRNP40    0.028630   \n",
      "\n",
      "     variantCredibleSet  \n",
      "3682                 L1  \n",
      "3725                 L1  \n",
      "4217                 L1  \n",
      "4220                 L1  \n",
      "4234                 L1  \n",
      "Number of unique rsIDs: 655\n",
      "Number of unique gene symbols: 46\n"
     ]
    }
   ],
   "source": [
    "print(filtered_mage.head())\n",
    "\n",
    "# Count unique rsIDs\n",
    "unique_rsids_count = filtered_mage[\"variant_rsID\"].nunique()\n",
    "\n",
    "# Count unique gene symbols\n",
    "unique_gene_symbols_count = filtered_mage[\"geneSymbol\"].nunique()\n",
    "\n",
    "print(\"Number of unique rsIDs:\", unique_rsids_count)\n",
    "print(\"Number of unique gene symbols:\", unique_gene_symbols_count)"
   ]
  },
  {
   "cell_type": "code",
   "execution_count": 11,
   "id": "d77839cf-87b8-4b7c-8863-8a0c2f6b0b95",
   "metadata": {},
   "outputs": [
    {
     "name": "stdout",
     "output_type": "stream",
     "text": [
      "26\n"
     ]
    }
   ],
   "source": [
    "df = pd.read_parquet('MetaLCL_extracted_transQTLs.parquet')\n",
    "filtered_df = df[df[\"nlog10p\"] > 11]\n",
    "unique_gene_symbols_count = filtered_df[\"cis_gene\"].nunique()\n",
    "#print(filtered_df.head())\n",
    "print(unique_gene_symbols_count)"
   ]
  }
 ],
 "metadata": {
  "kernelspec": {
   "display_name": "Python 3 (ipykernel)",
   "language": "python",
   "name": "python3"
  },
  "language_info": {
   "codemirror_mode": {
    "name": "ipython",
    "version": 3
   },
   "file_extension": ".py",
   "mimetype": "text/x-python",
   "name": "python",
   "nbconvert_exporter": "python",
   "pygments_lexer": "ipython3",
   "version": "3.9.19"
  }
 },
 "nbformat": 4,
 "nbformat_minor": 5
}
