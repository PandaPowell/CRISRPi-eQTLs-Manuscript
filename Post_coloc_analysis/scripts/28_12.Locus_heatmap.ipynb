{
 "cells": [
  {
   "cell_type": "code",
   "execution_count": 2,
   "id": "8b495fe5-ed6d-4a6f-8785-105cbc080ed9",
   "metadata": {},
   "outputs": [
    {
     "name": "stderr",
     "output_type": "stream",
     "text": [
      "Warning message:\n",
      "“package ‘arrow’ was built under R version 4.3.2”\n",
      "\n",
      "Attaching package: ‘arrow’\n",
      "\n",
      "\n",
      "The following object is masked from ‘package:utils’:\n",
      "\n",
      "    timestamp\n",
      "\n",
      "\n",
      "── \u001b[1mAttaching core tidyverse packages\u001b[22m ─────────────────────────────────────────────────────────────────────────────────────────────────────────────── tidyverse 2.0.0 ──\n",
      "\u001b[32m✔\u001b[39m \u001b[34mdplyr    \u001b[39m 1.1.4     \u001b[32m✔\u001b[39m \u001b[34mreadr    \u001b[39m 2.1.5\n",
      "\u001b[32m✔\u001b[39m \u001b[34mforcats  \u001b[39m 1.0.0     \u001b[32m✔\u001b[39m \u001b[34mstringr  \u001b[39m 1.5.1\n",
      "\u001b[32m✔\u001b[39m \u001b[34mggplot2  \u001b[39m 3.5.1     \u001b[32m✔\u001b[39m \u001b[34mtibble   \u001b[39m 3.2.1\n",
      "\u001b[32m✔\u001b[39m \u001b[34mlubridate\u001b[39m 1.9.3     \u001b[32m✔\u001b[39m \u001b[34mtidyr    \u001b[39m 1.3.1\n",
      "\u001b[32m✔\u001b[39m \u001b[34mpurrr    \u001b[39m 1.0.2     \n",
      "── \u001b[1mConflicts\u001b[22m ───────────────────────────────────────────────────────────────────────────────────────────────────────────────────────────────── tidyverse_conflicts() ──\n",
      "\u001b[31m✖\u001b[39m \u001b[34mdplyr\u001b[39m::\u001b[32mbetween()\u001b[39m      masks \u001b[34mdata.table\u001b[39m::between()\n",
      "\u001b[31m✖\u001b[39m \u001b[34mreadr\u001b[39m::\u001b[32mcol_factor()\u001b[39m   masks \u001b[34mscales\u001b[39m::col_factor()\n",
      "\u001b[31m✖\u001b[39m \u001b[34mpurrr\u001b[39m::\u001b[32mdiscard()\u001b[39m      masks \u001b[34mscales\u001b[39m::discard()\n",
      "\u001b[31m✖\u001b[39m \u001b[34mlubridate\u001b[39m::\u001b[32mduration()\u001b[39m masks \u001b[34marrow\u001b[39m::duration()\n",
      "\u001b[31m✖\u001b[39m \u001b[34mdplyr\u001b[39m::\u001b[32mfilter()\u001b[39m       masks \u001b[34mstats\u001b[39m::filter()\n",
      "\u001b[31m✖\u001b[39m \u001b[34mdplyr\u001b[39m::\u001b[32mfirst()\u001b[39m        masks \u001b[34mdata.table\u001b[39m::first()\n",
      "\u001b[31m✖\u001b[39m \u001b[34mlubridate\u001b[39m::\u001b[32mhour()\u001b[39m     masks \u001b[34mdata.table\u001b[39m::hour()\n",
      "\u001b[31m✖\u001b[39m \u001b[34mlubridate\u001b[39m::\u001b[32misoweek()\u001b[39m  masks \u001b[34mdata.table\u001b[39m::isoweek()\n",
      "\u001b[31m✖\u001b[39m \u001b[34mdplyr\u001b[39m::\u001b[32mlag()\u001b[39m          masks \u001b[34mstats\u001b[39m::lag()\n",
      "\u001b[31m✖\u001b[39m \u001b[34mdplyr\u001b[39m::\u001b[32mlast()\u001b[39m         masks \u001b[34mdata.table\u001b[39m::last()\n",
      "\u001b[31m✖\u001b[39m \u001b[34mlubridate\u001b[39m::\u001b[32mmday()\u001b[39m     masks \u001b[34mdata.table\u001b[39m::mday()\n",
      "\u001b[31m✖\u001b[39m \u001b[34mlubridate\u001b[39m::\u001b[32mminute()\u001b[39m   masks \u001b[34mdata.table\u001b[39m::minute()\n",
      "\u001b[31m✖\u001b[39m \u001b[34mlubridate\u001b[39m::\u001b[32mmonth()\u001b[39m    masks \u001b[34mdata.table\u001b[39m::month()\n",
      "\u001b[31m✖\u001b[39m \u001b[34mlubridate\u001b[39m::\u001b[32mquarter()\u001b[39m  masks \u001b[34mdata.table\u001b[39m::quarter()\n",
      "\u001b[31m✖\u001b[39m \u001b[34mlubridate\u001b[39m::\u001b[32msecond()\u001b[39m   masks \u001b[34mdata.table\u001b[39m::second()\n",
      "\u001b[31m✖\u001b[39m \u001b[34mpurrr\u001b[39m::\u001b[32mtranspose()\u001b[39m    masks \u001b[34mdata.table\u001b[39m::transpose()\n",
      "\u001b[31m✖\u001b[39m \u001b[34mlubridate\u001b[39m::\u001b[32mwday()\u001b[39m     masks \u001b[34mdata.table\u001b[39m::wday()\n",
      "\u001b[31m✖\u001b[39m \u001b[34mlubridate\u001b[39m::\u001b[32mweek()\u001b[39m     masks \u001b[34mdata.table\u001b[39m::week()\n",
      "\u001b[31m✖\u001b[39m \u001b[34mlubridate\u001b[39m::\u001b[32myday()\u001b[39m     masks \u001b[34mdata.table\u001b[39m::yday()\n",
      "\u001b[31m✖\u001b[39m \u001b[34mlubridate\u001b[39m::\u001b[32myear()\u001b[39m     masks \u001b[34mdata.table\u001b[39m::year()\n",
      "\u001b[36mℹ\u001b[39m Use the conflicted package (\u001b[3m\u001b[34m<http://conflicted.r-lib.org/>\u001b[39m\u001b[23m) to force all conflicts to become errors\n",
      "\n",
      "Attaching package: ‘cowplot’\n",
      "\n",
      "\n",
      "The following object is masked from ‘package:lubridate’:\n",
      "\n",
      "    stamp\n",
      "\n",
      "\n",
      "\n",
      "Attaching package: ‘gridExtra’\n",
      "\n",
      "\n",
      "The following object is masked from ‘package:dplyr’:\n",
      "\n",
      "    combine\n",
      "\n",
      "\n"
     ]
    }
   ],
   "source": [
    "library(data.table)\n",
    "library(scales)\n",
    "library(arrow)\n",
    "library(tidyverse)\n",
    "library(cowplot)\n",
    "library(gridExtra)\n",
    "\n",
    "setDTthreads(10)\n",
    "setwd(\"/gpfs/commons/groups/lappalainen_lab/sghatan/stingseq_eqtl_overlap/Post_coloc_analysis/\")\n",
    "\n",
    "# Load cres\n",
    "cres_w_grnas = fread(\"cres_with_grnas.txt\")\n",
    "cres_w_grnas_egene = fread(\"cres_with_grna_eqtls.txt\")\n",
    "\n",
    "# Load gold standard causal gene list\n",
    "gold_genes = fread(\"rare_genes_list.txt\")\n",
    "\n",
    "# filter eQTLs and crispri overlapping gold standard gene list\n",
    "cgenes = cres_w_grnas %>% \n",
    "  filter(ensembl_id %in% gold_genes$rare_genes, significant == T) %>% \n",
    "  distinct(grna_target, .keep_all = T)\n",
    "\n",
    "egenes = cres_w_grnas_egene %>% \n",
    "  filter(ensembl_id %in% gold_genes$rare_genes) %>% \n",
    "  distinct(grna_target, .keep_all = T)\n",
    "\n",
    "# Load eqtl distances\n",
    "eqtl.cat.distances = fread(\"eQTL_gene_distances/eqtl_cat_gene_distances.txt\")\n",
    "sc.eqtl.distances = fread(\"eQTL_gene_distances/Onek1k_gene_distance.txt\")\n",
    "gtex.distance = fread(\"eQTL_gene_distances/GTEx_gene_distance.txt\")\n",
    "mage.distance = fread(\"eQTL_gene_distances/MAGE_gene_distance.txt\")\n",
    "\n",
    "# load power calculations\n",
    "gtex = fread(\"power_results/GTEx.power.results.txt\")\n",
    "\n",
    "plot_list <- list()  # Create an empty list to store plots\n",
    "\n",
    "plot.heatmap = function(x, y){\n",
    "  \n",
    "  cat(\"Plotting heatmap for\", x , \"\\n\")\n",
    "  \n",
    "  # filter distance dataframe to snp\n",
    "  eqtl.cat.region = eqtl.cat.distances %>% \n",
    "    filter(grna_target == x) %>% \n",
    "    mutate(tss_distance = position-start) %>%\n",
    "    dplyr::select(grna_target, study = eqtl, gene_name, pvalue, tss_distance)\n",
    "  \n",
    "  sc.eqtl.region = sc.eqtl.distances %>% \n",
    "    filter(grna_target == x, !cell_type %in% c(\"Other_T_cells\", \"Other_cells\")) %>%\n",
    "    dplyr::select(grna_target, study = cell_type, gene_name, pvalue = pval_nominal, tss_distance = distance)\n",
    "  \n",
    "  gtex.region = gtex.distance %>% \n",
    "    filter(grna_target == x) %>%\n",
    "    mutate(study = \"GTEx\") %>%\n",
    "    dplyr::select(grna_target, study,gene_name, pvalue = pval_nominal, tss_distance)\n",
    "  \n",
    "  mage.region = mage.distance %>%\n",
    "    filter(grna_target == x) %>%\n",
    "    mutate(study = \"MAGE\") %>%\n",
    "    dplyr::select(grna_target, study, gene_name=geneSymbol, pvalue = pval_nominal, tss_distance)\n",
    "  \n",
    "  eqtl.region = rbind(eqtl.cat.region,sc.eqtl.region,gtex.region,mage.region) %>%\n",
    "    mutate(pvalue = (pvalue/1e-03)*0.10) %>% # scale p-value to a line with crispr\n",
    "    mutate(pvalue = ifelse(pvalue > 1, 1, pvalue))\n",
    "  \n",
    "  crispr.region = cres_w_grnas %>% \n",
    "    filter(grna_target == x) %>%\n",
    "    mutate(study = \"CRISPRi\") %>%\n",
    "    dplyr::select(grna_target, study, gene_name, pvalue, tss_distance)\n",
    "  \n",
    "  dis_rank = rbind(eqtl.region,crispr.region) %>%\n",
    "    distinct(gene_name,.keep_all=T) %>%\n",
    "    mutate(dis_rank = rank(tss_distance*-1),\n",
    "           zero_rank = rank(abs(tss_distance))) %>%\n",
    "    arrange(dis_rank)\n",
    "  \n",
    "  # what is the position of the median ranked gene\n",
    "  median_rank = round(median(dis_rank$dis_rank))\n",
    "  median_value = dis_rank$tss_distance[dis_rank$dis_rank == median_rank]\n",
    "  \n",
    "  heatmap_data <- rbind(eqtl.region,crispr.region) %>%\n",
    "    mutate(log_pval = -log(pvalue)) %>%\n",
    "    dplyr::select(study, gene_name, log_pval) %>%\n",
    "    filter(gene_name != \"\") %>%\n",
    "    arrange(desc(log_pval)) %>%\n",
    "    distinct(study, .keep_all=T) %>%\n",
    "    pivot_wider(names_from = gene_name, values_from = log_pval) %>%\n",
    "    column_to_rownames(\"study\")\n",
    "  \n",
    "  heatmap_long <- heatmap_data %>%\n",
    "    rownames_to_column(\"study\") %>%\n",
    "    pivot_longer(cols = -study, names_to = \"gene_name\", values_to = \"pvalue\") %>%\n",
    "    filter(gene_name %in% dis_rank$gene_name) %>%\n",
    "    left_join(dis_rank[,c(\"gene_name\",\"tss_distance\")], \"gene_name\")\n",
    "  \n",
    "  heatmap_long$pval_filled <- ifelse(is.na(heatmap_long$pvalue), -Inf, heatmap_long$pvalue)\n",
    "  #heatmap_long$study <- factor(heatmap_long$study, levels = rev(c(\"NK_cells\", \"B_cells\", \"CD4_T_cells\", \"CD8_T_cells\", \"DC_mean\", \"Mono_cells\",\"GTEx\",\"CRISPRi\")))\n",
    "  heatmap_long$gene_name = factor(heatmap_long$gene_name, levels = dis_rank$gene_name)\n",
    "  # set center of plot for title\n",
    "  tent5c_position <- which(levels(heatmap_long$gene_name) == dis_rank$gene_name[dis_rank$zero_rank == 1])\n",
    "  \n",
    "  if (!dir.exists(\"plots/heatmaps\")) {\n",
    "    \n",
    "    print(\"No directory\")\n",
    "    \n",
    "    dir.create(\"plots/heatmaps\", recursive = TRUE)\n",
    "  }\n",
    "  \n",
    "  # Plotting the heatmap\n",
    "  #png(paste0(\"plots/heatmaps/\", x, \".png\"), width = 14, height = 4, units = \"in\", res = 300)\n",
    "  \n",
    "  plot = ggplot(heatmap_long, aes(x = gene_name, y = study, fill = pval_filled)) +\n",
    "    geom_tile(aes(color = is.na(pvalue)), show.legend = TRUE) + # Show legend for z-scores\n",
    "    scale_fill_gradientn(colors = c(\"white\", \"white\", \"red\"),\n",
    "                         values = rescale(c(0, 2, 10)), na.value = \"gainsboro\", oob = squish, limits = c(0, 10)) +  \n",
    "    scale_color_manual(values = c(\"TRUE\" = \"gainsboro\", \"FALSE\" = NA), guide = \"none\") + # Exclude color legend for NA tiles\n",
    "    theme_cowplot() +\n",
    "    labs(title = x, x = \"Gene\", y = \"\", fill = \"-log10 p-value\") +\n",
    "    theme(\n",
    "      axis.text.x = element_text(angle = 45, hjust = 1, color = ifelse(levels(heatmap_long$gene_name) == y, \"blue\", \"black\")),\n",
    "      plot.title = element_text(hjust = 1/14*(tent5c_position-0.5), size = 12, margin = margin(b = 25)) # Center the title\n",
    "    )\n",
    "  \n",
    "  print(plot)\n",
    "  \n",
    "  #dev.off()\n",
    "  \n",
    "  print(\"Done\")\n",
    "  \n",
    "}"
   ]
  },
  {
   "cell_type": "code",
   "execution_count": 4,
   "id": "ecff375e-a29a-4af3-ac34-09ecdba63b04",
   "metadata": {},
   "outputs": [
    {
     "name": "stdout",
     "output_type": "stream",
     "text": [
      "Plotting heatmap for 1:118152241 \n"
     ]
    },
    {
     "name": "stderr",
     "output_type": "stream",
     "text": [
      "Warning message:\n",
      "“\u001b[1m\u001b[22mVectorized input to `element_text()` is not officially supported.\n",
      "\u001b[36mℹ\u001b[39m Results may be unexpected or may change in future versions of ggplot2.”\n"
     ]
    },
    {
     "name": "stdout",
     "output_type": "stream",
     "text": [
      "[1] \"Done\"\n"
     ]
    },
    {
     "data": {
      "image/png": "[encoded data removed]",
      "text/plain": [
       "plot without title"
      ]
     },
     "metadata": {
      "image/png": {
       "height": 420,
       "width": 420
      }
     },
     "output_type": "display_data"
    }
   ],
   "source": [
    "plot.heatmap(cgenes$grna_target[1], cgenes$gene_name[1])"
   ]
  },
  {
   "cell_type": "code",
   "execution_count": 6,
   "id": "bc330e1c-f7f8-489b-9d68-f3d9f51199e1",
   "metadata": {},
   "outputs": [
    {
     "name": "stdout",
     "output_type": "stream",
     "text": [
      "Plotting heatmap for 1:118152241 \n"
     ]
    },
    {
     "name": "stderr",
     "output_type": "stream",
     "text": [
      "Warning message:\n",
      "“\u001b[1m\u001b[22mVectorized input to `element_text()` is not officially supported.\n",
      "\u001b[36mℹ\u001b[39m Results may be unexpected or may change in future versions of ggplot2.”\n"
     ]
    },
    {
     "name": "stdout",
     "output_type": "stream",
     "text": [
      "[1] \"Done\"\n",
      "Plotting heatmap for 3:195921311 \n"
     ]
    },
    {
     "name": "stderr",
     "output_type": "stream",
     "text": [
      "Warning message:\n",
      "“\u001b[1m\u001b[22mVectorized input to `element_text()` is not officially supported.\n",
      "\u001b[36mℹ\u001b[39m Results may be unexpected or may change in future versions of ggplot2.”\n"
     ]
    },
    {
     "name": "stdout",
     "output_type": "stream",
     "text": [
      "[1] \"Done\"\n",
      "Plotting heatmap for 3:128201889 \n"
     ]
    },
    {
     "name": "stderr",
     "output_type": "stream",
     "text": [
      "Warning message:\n",
      "“\u001b[1m\u001b[22mVectorized input to `element_text()` is not officially supported.\n",
      "\u001b[36mℹ\u001b[39m Results may be unexpected or may change in future versions of ggplot2.”\n"
     ]
    },
    {
     "name": "stdout",
     "output_type": "stream",
     "text": [
      "[1] \"Done\"\n",
      "Plotting heatmap for 7:50427982 \n"
     ]
    },
    {
     "name": "stderr",
     "output_type": "stream",
     "text": [
      "Warning message:\n",
      "“\u001b[1m\u001b[22mVectorized input to `element_text()` is not officially supported.\n",
      "\u001b[36mℹ\u001b[39m Results may be unexpected or may change in future versions of ggplot2.”\n"
     ]
    },
    {
     "name": "stdout",
     "output_type": "stream",
     "text": [
      "[1] \"Done\"\n",
      "Plotting heatmap for 8:41630405 \n"
     ]
    },
    {
     "name": "stderr",
     "output_type": "stream",
     "text": [
      "Warning message:\n",
      "“\u001b[1m\u001b[22mVectorized input to `element_text()` is not officially supported.\n",
      "\u001b[36mℹ\u001b[39m Results may be unexpected or may change in future versions of ggplot2.”\n"
     ]
    },
    {
     "name": "stdout",
     "output_type": "stream",
     "text": [
      "[1] \"Done\"\n",
      "Plotting heatmap for 9:135860412 \n"
     ]
    },
    {
     "name": "stderr",
     "output_type": "stream",
     "text": [
      "Warning message:\n",
      "“\u001b[1m\u001b[22mVectorized input to `element_text()` is not officially supported.\n",
      "\u001b[36mℹ\u001b[39m Results may be unexpected or may change in future versions of ggplot2.”\n"
     ]
    },
    {
     "name": "stdout",
     "output_type": "stream",
     "text": [
      "[1] \"Done\"\n",
      "Plotting heatmap for 9:135879542 \n"
     ]
    },
    {
     "name": "stderr",
     "output_type": "stream",
     "text": [
      "Warning message:\n",
      "“\u001b[1m\u001b[22mVectorized input to `element_text()` is not officially supported.\n",
      "\u001b[36mℹ\u001b[39m Results may be unexpected or may change in future versions of ggplot2.”\n"
     ]
    },
    {
     "name": "stdout",
     "output_type": "stream",
     "text": [
      "[1] \"Done\"\n",
      "Plotting heatmap for 10:71094504 \n"
     ]
    },
    {
     "name": "stderr",
     "output_type": "stream",
     "text": [
      "Warning message:\n",
      "“\u001b[1m\u001b[22mVectorized input to `element_text()` is not officially supported.\n",
      "\u001b[36mℹ\u001b[39m Results may be unexpected or may change in future versions of ggplot2.”\n"
     ]
    },
    {
     "name": "stdout",
     "output_type": "stream",
     "text": [
      "[1] \"Done\"\n",
      "Plotting heatmap for 10:65027610 \n"
     ]
    },
    {
     "name": "stderr",
     "output_type": "stream",
     "text": [
      "Warning message:\n",
      "“\u001b[1m\u001b[22mVectorized input to `element_text()` is not officially supported.\n",
      "\u001b[36mℹ\u001b[39m Results may be unexpected or may change in future versions of ggplot2.”\n"
     ]
    },
    {
     "name": "stdout",
     "output_type": "stream",
     "text": [
      "[1] \"Done\"\n",
      "Plotting heatmap for 12:54685880 \n"
     ]
    },
    {
     "name": "stderr",
     "output_type": "stream",
     "text": [
      "Warning message:\n",
      "“\u001b[1m\u001b[22mVectorized input to `element_text()` is not officially supported.\n",
      "\u001b[36mℹ\u001b[39m Results may be unexpected or may change in future versions of ggplot2.”\n"
     ]
    },
    {
     "name": "stdout",
     "output_type": "stream",
     "text": [
      "[1] \"Done\"\n",
      "Plotting heatmap for 12:54698408 \n"
     ]
    },
    {
     "name": "stderr",
     "output_type": "stream",
     "text": [
      "Warning message:\n",
      "“\u001b[1m\u001b[22mVectorized input to `element_text()` is not officially supported.\n",
      "\u001b[36mℹ\u001b[39m Results may be unexpected or may change in future versions of ggplot2.”\n"
     ]
    },
    {
     "name": "stdout",
     "output_type": "stream",
     "text": [
      "[1] \"Done\"\n",
      "Plotting heatmap for 13:113875080 \n"
     ]
    },
    {
     "name": "stderr",
     "output_type": "stream",
     "text": [
      "Warning message:\n",
      "“\u001b[1m\u001b[22mVectorized input to `element_text()` is not officially supported.\n",
      "\u001b[36mℹ\u001b[39m Results may be unexpected or may change in future versions of ggplot2.”\n"
     ]
    },
    {
     "name": "stdout",
     "output_type": "stream",
     "text": [
      "[1] \"Done\"\n",
      "Plotting heatmap for 14:103564820 \n"
     ]
    },
    {
     "name": "stderr",
     "output_type": "stream",
     "text": [
      "Warning message:\n",
      "“\u001b[1m\u001b[22mVectorized input to `element_text()` is not officially supported.\n",
      "\u001b[36mℹ\u001b[39m Results may be unexpected or may change in future versions of ggplot2.”\n"
     ]
    },
    {
     "name": "stdout",
     "output_type": "stream",
     "text": [
      "[1] \"Done\"\n",
      "Plotting heatmap for 16:88840462 \n"
     ]
    },
    {
     "name": "stderr",
     "output_type": "stream",
     "text": [
      "Warning message:\n",
      "“\u001b[1m\u001b[22mVectorized input to `element_text()` is not officially supported.\n",
      "\u001b[36mℹ\u001b[39m Results may be unexpected or may change in future versions of ggplot2.”\n"
     ]
    },
    {
     "name": "stdout",
     "output_type": "stream",
     "text": [
      "[1] \"Done\"\n",
      "Plotting heatmap for 21:36280376 \n"
     ]
    },
    {
     "name": "stderr",
     "output_type": "stream",
     "text": [
      "Warning message:\n",
      "“\u001b[1m\u001b[22mVectorized input to `element_text()` is not officially supported.\n",
      "\u001b[36mℹ\u001b[39m Results may be unexpected or may change in future versions of ggplot2.”\n"
     ]
    },
    {
     "name": "stdout",
     "output_type": "stream",
     "text": [
      "[1] \"Done\"\n",
      "Plotting heatmap for 19:12999458 \n"
     ]
    },
    {
     "name": "stderr",
     "output_type": "stream",
     "text": [
      "Warning message:\n",
      "“\u001b[1m\u001b[22mVectorized input to `element_text()` is not officially supported.\n",
      "\u001b[36mℹ\u001b[39m Results may be unexpected or may change in future versions of ggplot2.”\n"
     ]
    },
    {
     "name": "stdout",
     "output_type": "stream",
     "text": [
      "[1] \"Done\"\n",
      "Plotting heatmap for 7:100240296 \n"
     ]
    },
    {
     "name": "stderr",
     "output_type": "stream",
     "text": [
      "Warning message:\n",
      "“\u001b[1m\u001b[22mVectorized input to `element_text()` is not officially supported.\n",
      "\u001b[36mℹ\u001b[39m Results may be unexpected or may change in future versions of ggplot2.”\n"
     ]
    },
    {
     "name": "stdout",
     "output_type": "stream",
     "text": [
      "[1] \"Done\"\n",
      "Plotting heatmap for 16:170328 \n"
     ]
    },
    {
     "name": "stderr",
     "output_type": "stream",
     "text": [
      "Warning message:\n",
      "“\u001b[1m\u001b[22mVectorized input to `element_text()` is not officially supported.\n",
      "\u001b[36mℹ\u001b[39m Results may be unexpected or may change in future versions of ggplot2.”\n"
     ]
    },
    {
     "name": "stdout",
     "output_type": "stream",
     "text": [
      "[1] \"Done\"\n",
      "Plotting heatmap for 7:101499930 \n"
     ]
    },
    {
     "name": "stderr",
     "output_type": "stream",
     "text": [
      "Warning message:\n",
      "“\u001b[1m\u001b[22mVectorized input to `element_text()` is not officially supported.\n",
      "\u001b[36mℹ\u001b[39m Results may be unexpected or may change in future versions of ggplot2.”\n"
     ]
    },
    {
     "name": "stdout",
     "output_type": "stream",
     "text": [
      "[1] \"Done\"\n",
      "Plotting heatmap for 1:31241886 \n"
     ]
    },
    {
     "name": "stderr",
     "output_type": "stream",
     "text": [
      "Warning message:\n",
      "“\u001b[1m\u001b[22mVectorized input to `element_text()` is not officially supported.\n",
      "\u001b[36mℹ\u001b[39m Results may be unexpected or may change in future versions of ggplot2.”\n"
     ]
    },
    {
     "name": "stdout",
     "output_type": "stream",
     "text": [
      "[1] \"Done\"\n",
      "Plotting heatmap for 19:12994618 \n"
     ]
    },
    {
     "name": "stderr",
     "output_type": "stream",
     "text": [
      "Warning message:\n",
      "“\u001b[1m\u001b[22mVectorized input to `element_text()` is not officially supported.\n",
      "\u001b[36mℹ\u001b[39m Results may be unexpected or may change in future versions of ggplot2.”\n"
     ]
    },
    {
     "name": "stdout",
     "output_type": "stream",
     "text": [
      "[1] \"Done\"\n",
      "Plotting heatmap for chr1:29210412-29210431 \n"
     ]
    },
    {
     "name": "stderr",
     "output_type": "stream",
     "text": [
      "Warning message:\n",
      "“\u001b[1m\u001b[22mVectorized input to `element_text()` is not officially supported.\n",
      "\u001b[36mℹ\u001b[39m Results may be unexpected or may change in future versions of ggplot2.”\n"
     ]
    },
    {
     "name": "stdout",
     "output_type": "stream",
     "text": [
      "[1] \"Done\"\n",
      "Plotting heatmap for chr1:248018791-248018810 \n"
     ]
    },
    {
     "name": "stderr",
     "output_type": "stream",
     "text": [
      "Warning message:\n",
      "“\u001b[1m\u001b[22mVectorized input to `element_text()` is not officially supported.\n",
      "\u001b[36mℹ\u001b[39m Results may be unexpected or may change in future versions of ggplot2.”\n"
     ]
    },
    {
     "name": "stdout",
     "output_type": "stream",
     "text": [
      "[1] \"Done\"\n",
      "Plotting heatmap for 4:55408999 \n"
     ]
    },
    {
     "name": "stderr",
     "output_type": "stream",
     "text": [
      "Warning message:\n",
      "“\u001b[1m\u001b[22mVectorized input to `element_text()` is not officially supported.\n",
      "\u001b[36mℹ\u001b[39m Results may be unexpected or may change in future versions of ggplot2.”\n"
     ]
    },
    {
     "name": "stdout",
     "output_type": "stream",
     "text": [
      "[1] \"Done\"\n",
      "Plotting heatmap for chr4:55438121-55438140 \n"
     ]
    },
    {
     "name": "stderr",
     "output_type": "stream",
     "text": [
      "Warning message:\n",
      "“\u001b[1m\u001b[22mVectorized input to `element_text()` is not officially supported.\n",
      "\u001b[36mℹ\u001b[39m Results may be unexpected or may change in future versions of ggplot2.”\n"
     ]
    },
    {
     "name": "stdout",
     "output_type": "stream",
     "text": [
      "[1] \"Done\"\n",
      "Plotting heatmap for chr11:5268102-5269244 \n"
     ]
    },
    {
     "name": "stderr",
     "output_type": "stream",
     "text": [
      "Warning message:\n",
      "“\u001b[1m\u001b[22mVectorized input to `element_text()` is not officially supported.\n",
      "\u001b[36mℹ\u001b[39m Results may be unexpected or may change in future versions of ggplot2.”\n"
     ]
    },
    {
     "name": "stdout",
     "output_type": "stream",
     "text": [
      "[1] \"Done\"\n"
     ]
    },
    {
     "data": {
      "text/html": [
       "<ol>\n",
       "\t<li>'Done'</li>\n",
       "\t<li>'Done'</li>\n",
       "\t<li>'Done'</li>\n",
       "\t<li>'Done'</li>\n",
       "\t<li>'Done'</li>\n",
       "\t<li>'Done'</li>\n",
       "\t<li>'Done'</li>\n",
       "\t<li>'Done'</li>\n",
       "\t<li>'Done'</li>\n",
       "\t<li>'Done'</li>\n",
       "\t<li>'Done'</li>\n",
       "\t<li>'Done'</li>\n",
       "\t<li>'Done'</li>\n",
       "\t<li>'Done'</li>\n",
       "\t<li>'Done'</li>\n",
       "\t<li>'Done'</li>\n",
       "\t<li>'Done'</li>\n",
       "\t<li>'Done'</li>\n",
       "\t<li>'Done'</li>\n",
       "\t<li>'Done'</li>\n",
       "\t<li>'Done'</li>\n",
       "\t<li>'Done'</li>\n",
       "\t<li>'Done'</li>\n",
       "\t<li>'Done'</li>\n",
       "\t<li>'Done'</li>\n",
       "\t<li>'Done'</li>\n",
       "</ol>\n"
      ],
      "text/latex": [
       "\\begin{enumerate}\n",
       "\\item 'Done'\n",
       "\\item 'Done'\n",
       "\\item 'Done'\n",
       "\\item 'Done'\n",
       "\\item 'Done'\n",
       "\\item 'Done'\n",
       "\\item 'Done'\n",
       "\\item 'Done'\n",
       "\\item 'Done'\n",
       "\\item 'Done'\n",
       "\\item 'Done'\n",
       "\\item 'Done'\n",
       "\\item 'Done'\n",
       "\\item 'Done'\n",
       "\\item 'Done'\n",
       "\\item 'Done'\n",
       "\\item 'Done'\n",
       "\\item 'Done'\n",
       "\\item 'Done'\n",
       "\\item 'Done'\n",
       "\\item 'Done'\n",
       "\\item 'Done'\n",
       "\\item 'Done'\n",
       "\\item 'Done'\n",
       "\\item 'Done'\n",
       "\\item 'Done'\n",
       "\\end{enumerate}\n"
      ],
      "text/markdown": [
       "1. 'Done'\n",
       "2. 'Done'\n",
       "3. 'Done'\n",
       "4. 'Done'\n",
       "5. 'Done'\n",
       "6. 'Done'\n",
       "7. 'Done'\n",
       "8. 'Done'\n",
       "9. 'Done'\n",
       "10. 'Done'\n",
       "11. 'Done'\n",
       "12. 'Done'\n",
       "13. 'Done'\n",
       "14. 'Done'\n",
       "15. 'Done'\n",
       "16. 'Done'\n",
       "17. 'Done'\n",
       "18. 'Done'\n",
       "19. 'Done'\n",
       "20. 'Done'\n",
       "21. 'Done'\n",
       "22. 'Done'\n",
       "23. 'Done'\n",
       "24. 'Done'\n",
       "25. 'Done'\n",
       "26. 'Done'\n",
       "\n",
       "\n"
      ],
      "text/plain": [
       "[[1]]\n",
       "[1] \"Done\"\n",
       "\n",
       "[[2]]\n",
       "[1] \"Done\"\n",
       "\n",
       "[[3]]\n",
       "[1] \"Done\"\n",
       "\n",
       "[[4]]\n",
       "[1] \"Done\"\n",
       "\n",
       "[[5]]\n",
       "[1] \"Done\"\n",
       "\n",
       "[[6]]\n",
       "[1] \"Done\"\n",
       "\n",
       "[[7]]\n",
       "[1] \"Done\"\n",
       "\n",
       "[[8]]\n",
       "[1] \"Done\"\n",
       "\n",
       "[[9]]\n",
       "[1] \"Done\"\n",
       "\n",
       "[[10]]\n",
       "[1] \"Done\"\n",
       "\n",
       "[[11]]\n",
       "[1] \"Done\"\n",
       "\n",
       "[[12]]\n",
       "[1] \"Done\"\n",
       "\n",
       "[[13]]\n",
       "[1] \"Done\"\n",
       "\n",
       "[[14]]\n",
       "[1] \"Done\"\n",
       "\n",
       "[[15]]\n",
       "[1] \"Done\"\n",
       "\n",
       "[[16]]\n",
       "[1] \"Done\"\n",
       "\n",
       "[[17]]\n",
       "[1] \"Done\"\n",
       "\n",
       "[[18]]\n",
       "[1] \"Done\"\n",
       "\n",
       "[[19]]\n",
       "[1] \"Done\"\n",
       "\n",
       "[[20]]\n",
       "[1] \"Done\"\n",
       "\n",
       "[[21]]\n",
       "[1] \"Done\"\n",
       "\n",
       "[[22]]\n",
       "[1] \"Done\"\n",
       "\n",
       "[[23]]\n",
       "[1] \"Done\"\n",
       "\n",
       "[[24]]\n",
       "[1] \"Done\"\n",
       "\n",
       "[[25]]\n",
       "[1] \"Done\"\n",
       "\n",
       "[[26]]\n",
       "[1] \"Done\"\n"
      ]
     },
     "metadata": {},
     "output_type": "display_data"
    }
   ],
   "source": [
    "#1:118152241\n",
    "lapply(1:nrow(cgenes), function(x) plot.heatmap(cgenes$grna_target[x], cgenes$gene_name[x]))"
   ]
  },
  {
   "cell_type": "code",
   "execution_count": null,
   "id": "25d0b740-247e-4572-9451-4b3969765c7b",
   "metadata": {},
   "outputs": [],
   "source": []
  }
 ],
 "metadata": {
  "kernelspec": {
   "display_name": "R",
   "language": "R",
   "name": "ir"
  },
  "language_info": {
   "codemirror_mode": "r",
   "file_extension": ".r",
   "mimetype": "text/x-r-source",
   "name": "R",
   "pygments_lexer": "r",
   "version": "4.3.1"
  }
 },
 "nbformat": 4,
 "nbformat_minor": 5
}
