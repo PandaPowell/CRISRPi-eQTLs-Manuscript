{
 "cells": [
  {
   "cell_type": "code",
   "execution_count": 1,
   "id": "f67d4519-07b0-4f27-bcde-f41d89e1be6b",
   "metadata": {},
   "outputs": [
    {
     "name": "stdout",
     "output_type": "stream",
     "text": [
      "Total cres tested = 882 \n",
      "Total number CREs with cgenes = 145 \n",
      "Total number of target-cgene pairs = 180 \n",
      "Total number of cgenes = 161 \n",
      "Total number CREs with egenes = 515 \n"
     ]
    },
    {
     "data": {
      "text/html": [
       "563"
      ],
      "text/latex": [
       "563"
      ],
      "text/markdown": [
       "563"
      ],
      "text/plain": [
       "[1] 563"
      ]
     },
     "metadata": {},
     "output_type": "display_data"
    },
    {
     "name": "stdout",
     "output_type": "stream",
     "text": [
      "Total number of target-egene pairs = 1300 \n",
      "Total number of egenes = 931 \n",
      "CREs without target genes = 319 \n",
      "Total number of overlapping CRES = 97 \n",
      "Number of target cgenes overlapping CRES = 122 \n",
      "Number of target egenes overlapping CRES = 266 \n",
      "Number of overlapping genes = 69 \n"
     ]
    }
   ],
   "source": [
    "suppressPackageStartupMessages({\n",
    "  library(tidyverse)\n",
    "  library(cowplot)\n",
    "  library(gridExtra)\n",
    "  library(data.table)\n",
    "})\n",
    "\n",
    "cres_w_grnas = fread(\"cres_with_grnas.txt\")\n",
    "cres_w_grnas_egene = fread(\"cres_with_grna_eqtls.txt\")\n",
    "\n",
    "total_cres = unique(cres_w_grnas$grna_target)\n",
    "cat(\"Total cres tested =\",length(total_cres),\"\\n\")\n",
    "\n",
    "grna_cres_w_cgenes = unique(cres_w_grnas$grna_target[cres_w_grnas$significant == 1])\n",
    "cat(\"Total number CREs with cgenes =\",length(grna_cres_w_cgenes),\"\\n\")\n",
    "\n",
    "target_cgenes = unique(cres_w_grnas$target_gene[cres_w_grnas$significant == 1])\n",
    "cat(\"Total number of target-cgene pairs =\",length(target_cgenes),\"\\n\")\n",
    "\n",
    "cgenes = unique(cres_w_grnas$ensembl_id[cres_w_grnas$significant == 1])\n",
    "cat(\"Total number of cgenes =\",length(cgenes),\"\\n\")\n",
    "\n",
    "grna_cres_w_egenes = unique(cres_w_grnas_egene$grna_target)\n",
    "cat(\"Total number CREs with egenes =\",length(grna_cres_w_egenes),\"\\n\")\n",
    "\n",
    "length(unique(c(grna_cres_w_cgenes,grna_cres_w_egenes)))\n",
    "\n",
    "target_egenes = unique(cres_w_grnas_egene$target_gene)\n",
    "cat(\"Total number of target-egene pairs =\",length(target_egenes),\"\\n\")\n",
    "\n",
    "egenes = unique(cres_w_grnas_egene$ensembl_id)\n",
    "cat(\"Total number of egenes =\",length(egenes),\"\\n\")\n",
    "\n",
    "cres_no_target = unique(cres_w_grnas$grna_target[!cres_w_grnas$grna_target %in% c(grna_cres_w_cgenes,grna_cres_w_egenes)])\n",
    "cat(\"CREs without target genes =\",length(cres_no_target),\"\\n\")\n",
    "\n",
    "overlapping_cres = grna_cres_w_cgenes[grna_cres_w_cgenes %in% grna_cres_w_egenes]\n",
    "cat(\"Total number of overlapping CRES =\",length(overlapping_cres),\"\\n\")\n",
    "\n",
    "overlapping_cres_cgene = unique(cres_w_grnas$target_gene[cres_w_grnas$grna_target %in% overlapping_cres & cres_w_grnas$significant == 1])\n",
    "cat(\"Number of target cgenes overlapping CRES =\",length(overlapping_cres_cgene),\"\\n\")\n",
    "\n",
    "overlapping_cres_egene = unique(cres_w_grnas_egene$target_gene[cres_w_grnas_egene$grna_target %in% overlapping_cres])\n",
    "cat(\"Number of target egenes overlapping CRES =\",length(overlapping_cres_egene),\"\\n\")\n",
    "\n",
    "overlapping_target_genes = overlapping_cres_cgene[overlapping_cres_cgene %in% overlapping_cres_egene]\n",
    "cat(\"Number of overlapping genes =\",length(overlapping_target_genes),\"\\n\")"
   ]
  },
  {
   "cell_type": "code",
   "execution_count": 38,
   "id": "b11bd608-1034-48aa-b750-bc4162ba86b1",
   "metadata": {},
   "outputs": [
    {
     "data": {
      "text/html": [
       "319"
      ],
      "text/latex": [
       "319"
      ],
      "text/markdown": [
       "319"
      ],
      "text/plain": [
       "[1] 319"
      ]
     },
     "metadata": {},
     "output_type": "display_data"
    },
    {
     "data": {
      "text/html": [
       "319"
      ],
      "text/latex": [
       "319"
      ],
      "text/markdown": [
       "319"
      ],
      "text/plain": [
       "[1] 319"
      ]
     },
     "metadata": {},
     "output_type": "display_data"
    },
    {
     "data": {
      "text/html": [
       "<table class=\"dataframe\">\n",
       "<caption>A tibble: 17 × 4</caption>\n",
       "<thead>\n",
       "\t<tr><th scope=col>bins</th><th scope=col>n</th><th scope=col>prop</th><th scope=col>Gene_type</th></tr>\n",
       "\t<tr><th scope=col>&lt;dbl&gt;</th><th scope=col>&lt;int&gt;</th><th scope=col>&lt;dbl&gt;</th><th scope=col>&lt;chr&gt;</th></tr>\n",
       "</thead>\n",
       "<tbody>\n",
       "\t<tr><td>-800</td><td>  2</td><td>0.006269592</td><td>GWAS (no target)</td></tr>\n",
       "\t<tr><td>-700</td><td>  1</td><td>0.003134796</td><td>GWAS (no target)</td></tr>\n",
       "\t<tr><td>-600</td><td>  1</td><td>0.003134796</td><td>GWAS (no target)</td></tr>\n",
       "\t<tr><td>-500</td><td>  2</td><td>0.006269592</td><td>GWAS (no target)</td></tr>\n",
       "\t<tr><td>-400</td><td>  2</td><td>0.006269592</td><td>GWAS (no target)</td></tr>\n",
       "\t<tr><td>-300</td><td> 12</td><td>0.037617555</td><td>GWAS (no target)</td></tr>\n",
       "\t<tr><td>-200</td><td> 31</td><td>0.097178683</td><td>GWAS (no target)</td></tr>\n",
       "\t<tr><td>-100</td><td>126</td><td>0.394984326</td><td>GWAS (no target)</td></tr>\n",
       "\t<tr><td> 100</td><td> 97</td><td>0.304075235</td><td>GWAS (no target)</td></tr>\n",
       "\t<tr><td> 200</td><td> 19</td><td>0.059561129</td><td>GWAS (no target)</td></tr>\n",
       "\t<tr><td> 300</td><td> 13</td><td>0.040752351</td><td>GWAS (no target)</td></tr>\n",
       "\t<tr><td> 400</td><td>  4</td><td>0.012539185</td><td>GWAS (no target)</td></tr>\n",
       "\t<tr><td> 500</td><td>  1</td><td>0.003134796</td><td>GWAS (no target)</td></tr>\n",
       "\t<tr><td> 600</td><td>  1</td><td>0.003134796</td><td>GWAS (no target)</td></tr>\n",
       "\t<tr><td> 700</td><td>  4</td><td>0.012539185</td><td>GWAS (no target)</td></tr>\n",
       "\t<tr><td> 800</td><td>  1</td><td>0.003134796</td><td>GWAS (no target)</td></tr>\n",
       "\t<tr><td> 900</td><td>  2</td><td>0.006269592</td><td>GWAS (no target)</td></tr>\n",
       "</tbody>\n",
       "</table>\n"
      ],
      "text/latex": [
       "A tibble: 17 × 4\n",
       "\\begin{tabular}{llll}\n",
       " bins & n & prop & Gene\\_type\\\\\n",
       " <dbl> & <int> & <dbl> & <chr>\\\\\n",
       "\\hline\n",
       "\t -800 &   2 & 0.006269592 & GWAS (no target)\\\\\n",
       "\t -700 &   1 & 0.003134796 & GWAS (no target)\\\\\n",
       "\t -600 &   1 & 0.003134796 & GWAS (no target)\\\\\n",
       "\t -500 &   2 & 0.006269592 & GWAS (no target)\\\\\n",
       "\t -400 &   2 & 0.006269592 & GWAS (no target)\\\\\n",
       "\t -300 &  12 & 0.037617555 & GWAS (no target)\\\\\n",
       "\t -200 &  31 & 0.097178683 & GWAS (no target)\\\\\n",
       "\t -100 & 126 & 0.394984326 & GWAS (no target)\\\\\n",
       "\t  100 &  97 & 0.304075235 & GWAS (no target)\\\\\n",
       "\t  200 &  19 & 0.059561129 & GWAS (no target)\\\\\n",
       "\t  300 &  13 & 0.040752351 & GWAS (no target)\\\\\n",
       "\t  400 &   4 & 0.012539185 & GWAS (no target)\\\\\n",
       "\t  500 &   1 & 0.003134796 & GWAS (no target)\\\\\n",
       "\t  600 &   1 & 0.003134796 & GWAS (no target)\\\\\n",
       "\t  700 &   4 & 0.012539185 & GWAS (no target)\\\\\n",
       "\t  800 &   1 & 0.003134796 & GWAS (no target)\\\\\n",
       "\t  900 &   2 & 0.006269592 & GWAS (no target)\\\\\n",
       "\\end{tabular}\n"
      ],
      "text/markdown": [
       "\n",
       "A tibble: 17 × 4\n",
       "\n",
       "| bins &lt;dbl&gt; | n &lt;int&gt; | prop &lt;dbl&gt; | Gene_type &lt;chr&gt; |\n",
       "|---|---|---|---|\n",
       "| -800 |   2 | 0.006269592 | GWAS (no target) |\n",
       "| -700 |   1 | 0.003134796 | GWAS (no target) |\n",
       "| -600 |   1 | 0.003134796 | GWAS (no target) |\n",
       "| -500 |   2 | 0.006269592 | GWAS (no target) |\n",
       "| -400 |   2 | 0.006269592 | GWAS (no target) |\n",
       "| -300 |  12 | 0.037617555 | GWAS (no target) |\n",
       "| -200 |  31 | 0.097178683 | GWAS (no target) |\n",
       "| -100 | 126 | 0.394984326 | GWAS (no target) |\n",
       "|  100 |  97 | 0.304075235 | GWAS (no target) |\n",
       "|  200 |  19 | 0.059561129 | GWAS (no target) |\n",
       "|  300 |  13 | 0.040752351 | GWAS (no target) |\n",
       "|  400 |   4 | 0.012539185 | GWAS (no target) |\n",
       "|  500 |   1 | 0.003134796 | GWAS (no target) |\n",
       "|  600 |   1 | 0.003134796 | GWAS (no target) |\n",
       "|  700 |   4 | 0.012539185 | GWAS (no target) |\n",
       "|  800 |   1 | 0.003134796 | GWAS (no target) |\n",
       "|  900 |   2 | 0.006269592 | GWAS (no target) |\n",
       "\n"
      ],
      "text/plain": [
       "   bins n   prop        Gene_type       \n",
       "1  -800   2 0.006269592 GWAS (no target)\n",
       "2  -700   1 0.003134796 GWAS (no target)\n",
       "3  -600   1 0.003134796 GWAS (no target)\n",
       "4  -500   2 0.006269592 GWAS (no target)\n",
       "5  -400   2 0.006269592 GWAS (no target)\n",
       "6  -300  12 0.037617555 GWAS (no target)\n",
       "7  -200  31 0.097178683 GWAS (no target)\n",
       "8  -100 126 0.394984326 GWAS (no target)\n",
       "9   100  97 0.304075235 GWAS (no target)\n",
       "10  200  19 0.059561129 GWAS (no target)\n",
       "11  300  13 0.040752351 GWAS (no target)\n",
       "12  400   4 0.012539185 GWAS (no target)\n",
       "13  500   1 0.003134796 GWAS (no target)\n",
       "14  600   1 0.003134796 GWAS (no target)\n",
       "15  700   4 0.012539185 GWAS (no target)\n",
       "16  800   1 0.003134796 GWAS (no target)\n",
       "17  900   2 0.006269592 GWAS (no target)"
      ]
     },
     "metadata": {},
     "output_type": "display_data"
    }
   ],
   "source": [
    "# Load gene distances and find closest gene to non-sig CREs\n",
    "gene_dis = cres_w_grnas[grna_target %in% cres_no_target,] %>%\n",
    "  arrange(abs(tss_distance)) %>%\n",
    "  distinct(grna_target, .keep_all = T)\n",
    "\n",
    "gwas = gene_dis %>%\n",
    "  filter(!is.na(tss_distance)) %>%\n",
    "  mutate(bins = case_when(\n",
    "    tss_distance > -1000000 & tss_distance < -900000 ~ -1000,\n",
    "    tss_distance >= -900000 & tss_distance < -800000 ~ -900,\n",
    "    tss_distance >= -800000 & tss_distance < -700000 ~ -800,\n",
    "    tss_distance >= -700000 & tss_distance < -600000 ~ -700,\n",
    "    tss_distance >= -600000 & tss_distance < -500000 ~ -600,\n",
    "    tss_distance >= -500000 & tss_distance < -400000 ~ -500,\n",
    "    tss_distance >= -400000 & tss_distance < -300000 ~ -400,\n",
    "    tss_distance >= -300000 & tss_distance < -200000 ~ -300,\n",
    "    tss_distance >= -200000 & tss_distance < -100000 ~ -200,\n",
    "    tss_distance >= -100000 & tss_distance < 0 ~ -100,\n",
    "    tss_distance > 0 & tss_distance < 100000 ~ 100,\n",
    "    tss_distance >= 100000 & tss_distance < 200000 ~ 200,\n",
    "    tss_distance >= 200000 & tss_distance < 300000 ~ 300,\n",
    "    tss_distance >= 300000 & tss_distance < 400000 ~ 400,\n",
    "    tss_distance >= 400000 & tss_distance < 500000 ~ 500,\n",
    "    tss_distance >= 500000 & tss_distance < 600000 ~ 600,\n",
    "    tss_distance >= 600000 & tss_distance < 700000 ~ 700,\n",
    "    tss_distance >= 700000 & tss_distance < 800000 ~ 800,\n",
    "    tss_distance >= 800000 & tss_distance < 900000 ~ 900,\n",
    "    tss_distance >= 900000 & tss_distance <= 1000000 ~ 1000,\n",
    "    TRUE ~ NA_real_  # Handle edge cases\n",
    "  )) %>%\n",
    "  group_by(bins) %>%\n",
    "  summarise(n = n(),\n",
    "            prop = n / nrow(gene_dis),\n",
    "            Gene_type = \"GWAS (no target)\")\n",
    "\n",
    "length(cres_no_target)\n",
    "\n",
    "length(gene_dis$grna_target)\n",
    "\n",
    "gwas"
   ]
  },
  {
   "cell_type": "code",
   "execution_count": 39,
   "id": "eaaf8f28-3bf7-4581-9eca-9119e65b7c25",
   "metadata": {},
   "outputs": [
    {
     "data": {
      "text/html": [
       "0.68384074941452"
      ],
      "text/latex": [
       "0.68384074941452"
      ],
      "text/markdown": [
       "0.68384074941452"
      ],
      "text/plain": [
       "[1] 0.6838407"
      ]
     },
     "metadata": {},
     "output_type": "display_data"
    },
    {
     "data": {
      "text/html": [
       "0.811111111111111"
      ],
      "text/latex": [
       "0.811111111111111"
      ],
      "text/markdown": [
       "0.811111111111111"
      ],
      "text/plain": [
       "[1] 0.8111111"
      ]
     },
     "metadata": {},
     "output_type": "display_data"
    },
    {
     "data": {
      "text/html": [
       "<strong>png:</strong> 2"
      ],
      "text/latex": [
       "\\textbf{png:} 2"
      ],
      "text/markdown": [
       "**png:** 2"
      ],
      "text/plain": [
       "png \n",
       "  2 "
      ]
     },
     "metadata": {},
     "output_type": "display_data"
    },
    {
     "data": {
      "text/html": [
       "1281"
      ],
      "text/latex": [
       "1281"
      ],
      "text/markdown": [
       "1281"
      ],
      "text/plain": [
       "[1] 1281"
      ]
     },
     "metadata": {},
     "output_type": "display_data"
    },
    {
     "data": {
      "text/html": [
       "180"
      ],
      "text/latex": [
       "180"
      ],
      "text/markdown": [
       "180"
      ],
      "text/plain": [
       "[1] 180"
      ]
     },
     "metadata": {},
     "output_type": "display_data"
    }
   ],
   "source": [
    "# set color to economist color pallette\n",
    "colors <- c(\n",
    "  \"cGenes\" = \"#d35e60\",\n",
    "    \"eGenes\" = \"#76c0c1\",\n",
    "  \"GWAS (no target)\" = \"#014d64\"\n",
    ")\n",
    "\n",
    "# Bar plot of TSS\n",
    "n_targets = cres_w_grnas_egene %>%\n",
    "  filter(!is.na(tss_distance)) %>%\n",
    "  distinct(target_gene, .keep_all = TRUE)\n",
    "\n",
    "nrow(n_targets[n_targets$tss_distance < 100000 & n_targets$tss_distance > -100000,])/nrow(n_targets)\n",
    "\n",
    "df1 = cres_w_grnas_egene %>%\n",
    "  filter(!is.na(tss_distance)) %>%\n",
    "  distinct(target_gene, .keep_all = TRUE) %>%\n",
    "  mutate(bins = case_when(\n",
    "    tss_distance > -1000000 & tss_distance < -900000 ~ -1000,\n",
    "    tss_distance >= -900000 & tss_distance < -800000 ~ -900,\n",
    "    tss_distance >= -800000 & tss_distance < -700000 ~ -800,\n",
    "    tss_distance >= -700000 & tss_distance < -600000 ~ -700,\n",
    "    tss_distance >= -600000 & tss_distance < -500000 ~ -600,\n",
    "    tss_distance >= -500000 & tss_distance < -400000 ~ -500,\n",
    "    tss_distance >= -400000 & tss_distance < -300000 ~ -400,\n",
    "    tss_distance >= -300000 & tss_distance < -200000 ~ -300,\n",
    "    tss_distance >= -200000 & tss_distance < -100000 ~ -200,\n",
    "    tss_distance >= -100000 & tss_distance < 0 ~ -100,\n",
    "    tss_distance > 0 & tss_distance < 100000 ~ 100,\n",
    "    tss_distance >= 100000 & tss_distance < 200000 ~ 200,\n",
    "    tss_distance >= 200000 & tss_distance < 300000 ~ 300,\n",
    "    tss_distance >= 300000 & tss_distance < 400000 ~ 400,\n",
    "    tss_distance >= 400000 & tss_distance < 500000 ~ 500,\n",
    "    tss_distance >= 500000 & tss_distance < 600000 ~ 600,\n",
    "    tss_distance >= 600000 & tss_distance < 700000 ~ 700,\n",
    "    tss_distance >= 700000 & tss_distance < 800000 ~ 800,\n",
    "    tss_distance >= 800000 & tss_distance < 900000 ~ 900,\n",
    "    tss_distance >= 900000 & tss_distance <= 1000000 ~ 1000,\n",
    "    TRUE ~ NA_real_  # Handle edge cases\n",
    "  )) %>%\n",
    "  group_by(bins) %>%\n",
    "  summarise(n = n(),\n",
    "            prop = n / nrow(n_targets),\n",
    "            Gene_type = \"eGenes\")\n",
    "\n",
    "n_targets2 = cres_w_grnas %>%\n",
    "  distinct(target_gene, .keep_all = TRUE) %>%\n",
    "  filter(significant ==1)\n",
    "\n",
    "nrow(n_targets2[n_targets2$tss_distance < 100000 & n_targets2$tss_distance > -100000,])/nrow(n_targets2)\n",
    "  \n",
    "df2 <- cres_w_grnas %>% \n",
    "  distinct(target_gene, .keep_all = TRUE) %>% # Remove duplicate target-genes for different eqtl/gwas\n",
    "  filter(significant == 1) %>%\n",
    "  mutate(bins = case_when(\n",
    "    tss_distance > -1000000 & tss_distance < -900000 ~ -1000,\n",
    "    tss_distance >= -900000 & tss_distance < -800000 ~ -900,\n",
    "    tss_distance >= -800000 & tss_distance < -700000 ~ -800,\n",
    "    tss_distance >= -700000 & tss_distance < -600000 ~ -700,\n",
    "    tss_distance >= -600000 & tss_distance < -500000 ~ -600,\n",
    "    tss_distance >= -500000 & tss_distance < -400000 ~ -500,\n",
    "    tss_distance >= -400000 & tss_distance < -300000 ~ -400,\n",
    "    tss_distance >= -300000 & tss_distance < -200000 ~ -300,\n",
    "    tss_distance >= -200000 & tss_distance < -100000 ~ -200,\n",
    "    tss_distance >= -100000 & tss_distance < 0 ~ -100,\n",
    "    tss_distance > 0 & tss_distance < 100000 ~ 100,\n",
    "    tss_distance >= 100000 & tss_distance < 200000 ~ 200,\n",
    "    tss_distance >= 200000 & tss_distance < 300000 ~ 300,\n",
    "    tss_distance >= 300000 & tss_distance < 400000 ~ 400,\n",
    "    tss_distance >= 400000 & tss_distance < 500000 ~ 500,\n",
    "    tss_distance >= 500000 & tss_distance < 600000 ~ 600,\n",
    "    tss_distance >= 600000 & tss_distance < 700000 ~ 700,\n",
    "    tss_distance >= 700000 & tss_distance < 800000 ~ 800,\n",
    "    tss_distance >= 800000 & tss_distance < 900000 ~ 900,\n",
    "    tss_distance >= 900000 & tss_distance <= 1000000 ~ 1000,\n",
    "    TRUE ~ NA_real_  # Handle edge cases\n",
    "  )) %>%\n",
    "  group_by(bins) %>%\n",
    "  summarise(\n",
    "    n = n(),\n",
    "    prop = n / nrow(n_targets2),\n",
    "    Gene_type = \"cGenes\"\n",
    "  )\n",
    "\n",
    "# Add a zero for -1000kb\n",
    "#extra = data.frame(bins\t= c(-1000,-800,-700,500,600),\n",
    "#                   n = c(0,0,0,0,0),\n",
    "#                   prop = c(0,0,0,0,0),\n",
    "#                   Gene_type = \"cGene\")\n",
    "\n",
    "#png(\"plots/figure_plots/tss_distance_barplots.png\", width = 8, height = 8,units = \"in\", res = 300)\n",
    "svg(\"plots/figure_plots/tss_distance_barplots.svg\", width = 8, height = 8)\n",
    "tss_distance_plot = bind_rows(df1, df2, gwas) %>% drop_na() %>%\n",
    "  ggplot(aes(x = factor(bins), y = prop, fill = Gene_type)) +\n",
    "  geom_col(color = \"black\", width = 0.8,position = position_dodge(width = 0.7)) +\n",
    "  labs(x = \"TSS Distance from TSS (kb)\", y = \"Proportion of CRE-gene pairs\", fill = \"Gene Type\") +\n",
    "  scale_fill_manual(\n",
    "    values = colors) +\n",
    "  theme_cowplot() +\n",
    "  theme(\n",
    "    axis.title.x = element_text(size = 16),\n",
    "    axis.title.y = element_text(size = 16, margin = margin(r = 10)),\n",
    "    axis.text.x = element_text(size = 16, angle = 45, hjust = 1),\n",
    "    axis.text.y = element_text(size = 16),\n",
    "    legend.position = \"top\"\n",
    "  )\n",
    "tss_distance_plot\n",
    "dev.off()\n",
    "\n",
    "nrow(n_targets)\n",
    "nrow(n_targets2)"
   ]
  },
  {
   "cell_type": "code",
   "execution_count": 40,
   "id": "3fc7db7c-ddde-4ffc-95a3-5dac3b047c82",
   "metadata": {},
   "outputs": [
    {
     "name": "stdout",
     "output_type": "stream",
     "text": [
      "proportion of cres within 10kb, with no CRE targets 0.206278 \n",
      "proportion of cres within 10kb, with eQTL targets 0.1873536 \n",
      "proportion of cres within 10kb, with CRISRPi targets 0.4111111 \n"
     ]
    },
    {
     "data": {
      "text/html": [
       "<strong>png:</strong> 2"
      ],
      "text/latex": [
       "\\textbf{png:} 2"
      ],
      "text/markdown": [
       "**png:** 2"
      ],
      "text/plain": [
       "png \n",
       "  2 "
      ]
     },
     "metadata": {},
     "output_type": "display_data"
    }
   ],
   "source": [
    "gwas = gene_dis %>%\n",
    "  filter(!is.na(tss_distance),tss_distance < 100000 & tss_distance > -100000) %>%\n",
    "  mutate(bins = case_when(\n",
    "    tss_distance > -100000 & tss_distance < -90000 ~ -100,\n",
    "    tss_distance >= -90000 & tss_distance < -80000 ~ -90,\n",
    "    tss_distance >= -80000 & tss_distance < -70000 ~ -80,\n",
    "    tss_distance >= -70000 & tss_distance < -60000 ~ -70,\n",
    "    tss_distance >= -60000 & tss_distance < -50000 ~ -60,\n",
    "    tss_distance >= -50000 & tss_distance < -40000 ~ -50,\n",
    "    tss_distance >= -40000 & tss_distance < -30000 ~ -40,\n",
    "    tss_distance >= -30000 & tss_distance < -20000 ~ -30,\n",
    "    tss_distance >= -20000 & tss_distance < -10000 ~ -20,\n",
    "    tss_distance >= -10000 & tss_distance < 0 ~ -10,\n",
    "    tss_distance > 0 & tss_distance < 10000 ~ 10,\n",
    "    tss_distance >= 10000 & tss_distance < 20000 ~ 20,\n",
    "    tss_distance >= 20000 & tss_distance < 30000 ~ 30,\n",
    "    tss_distance >= 30000 & tss_distance < 40000 ~ 40,\n",
    "    tss_distance >= 40000 & tss_distance < 50000 ~ 50,\n",
    "    tss_distance >= 50000 & tss_distance < 60000 ~ 60,\n",
    "    tss_distance >= 60000 & tss_distance < 70000 ~ 70,\n",
    "    tss_distance >= 70000 & tss_distance < 80000 ~ 80,\n",
    "    tss_distance >= 80000 & tss_distance < 90000 ~ 90,\n",
    "    tss_distance >= 90000 & tss_distance <= 100000 ~ 100,\n",
    "    TRUE ~ NA_real_  # Handle edge cases\n",
    "  )) %>%\n",
    "  group_by(bins) %>%\n",
    "  summarise(n = n(),\n",
    "            prop = n / nrow(gene_dis[tss_distance < 100000 & tss_distance > -100000,]),\n",
    "            Gene_type = \"GWAS genes\")\n",
    "\n",
    "cat(\"proportion of cres within 10kb, with no CRE targets\",gwas$prop[gwas$bins == -10] + gwas$prop[gwas$bins == 10],\"\\n\")\n",
    "\n",
    "# line graph of TSS\n",
    "n_targets = cres_w_grnas_egene %>%\n",
    "  filter(!is.na(tss_distance), tss_distance < 100000 & tss_distance > -100000) %>%\n",
    "  distinct(target_gene, .keep_all = TRUE)\n",
    "\n",
    "df1 = cres_w_grnas_egene %>%\n",
    "  filter(!is.na(tss_distance), tss_distance < 100000 & tss_distance > -100000) %>%\n",
    "  distinct(target_gene, .keep_all = TRUE) %>%\n",
    "  mutate(bins = case_when(\n",
    "    tss_distance > -100000 & tss_distance < -90000 ~ -100,\n",
    "    tss_distance >= -90000 & tss_distance < -80000 ~ -90,\n",
    "    tss_distance >= -80000 & tss_distance < -70000 ~ -80,\n",
    "    tss_distance >= -70000 & tss_distance < -60000 ~ -70,\n",
    "    tss_distance >= -60000 & tss_distance < -50000 ~ -60,\n",
    "    tss_distance >= -50000 & tss_distance < -40000 ~ -50,\n",
    "    tss_distance >= -40000 & tss_distance < -30000 ~ -40,\n",
    "    tss_distance >= -30000 & tss_distance < -20000 ~ -30,\n",
    "    tss_distance >= -20000 & tss_distance < -10000 ~ -20,\n",
    "    tss_distance >= -10000 & tss_distance < 0 ~ -10,\n",
    "    tss_distance > 0 & tss_distance < 10000 ~ 10,\n",
    "    tss_distance >= 10000 & tss_distance < 20000 ~ 20,\n",
    "    tss_distance >= 20000 & tss_distance < 30000 ~ 30,\n",
    "    tss_distance >= 30000 & tss_distance < 40000 ~ 40,\n",
    "    tss_distance >= 40000 & tss_distance < 50000 ~ 50,\n",
    "    tss_distance >= 50000 & tss_distance < 60000 ~ 60,\n",
    "    tss_distance >= 60000 & tss_distance < 70000 ~ 70,\n",
    "    tss_distance >= 70000 & tss_distance < 80000 ~ 80,\n",
    "    tss_distance >= 80000 & tss_distance < 90000 ~ 90,\n",
    "    tss_distance >= 90000 & tss_distance <= 100000 ~ 100,\n",
    "    TRUE ~ NA_real_  # Handle edge cases\n",
    "  )) %>%\n",
    "  filter(!is.na(bins)) %>%  # Remove any NA bins\n",
    "  group_by(bins) %>%\n",
    "  summarise(n = n(),\n",
    "            prop = n / 1281,\n",
    "            Gene_type = \"eGenes\")\n",
    "\n",
    "cat(\"proportion of cres within 10kb, with eQTL targets\",df1$prop[df1$bins == -10] + df1$prop[df1$bins == 10],\"\\n\")\n",
    "\n",
    "n_targets2 = cres_w_grnas %>%\n",
    "  distinct(target_gene, .keep_all = TRUE) %>%\n",
    "  filter(significant ==1, tss_distance < 100000 & tss_distance > -100000)\n",
    "  \n",
    "df2 <- cres_w_grnas %>% \n",
    "  distinct(target_gene, .keep_all = TRUE) %>% # Remove duplicate target-genes for different eqtl/gwas\n",
    "  filter(significant == 1, tss_distance < 100000 & tss_distance > -100000) %>%\n",
    "  mutate(bins = case_when(\n",
    "    tss_distance > -100000 & tss_distance < -90000 ~ -100,\n",
    "    tss_distance >= -90000 & tss_distance < -80000 ~ -90,\n",
    "    tss_distance >= -80000 & tss_distance < -70000 ~ -80,\n",
    "    tss_distance >= -70000 & tss_distance < -60000 ~ -70,\n",
    "    tss_distance >= -60000 & tss_distance < -50000 ~ -60,\n",
    "    tss_distance >= -50000 & tss_distance < -40000 ~ -50,\n",
    "    tss_distance >= -40000 & tss_distance < -30000 ~ -40,\n",
    "    tss_distance >= -30000 & tss_distance < -20000 ~ -30,\n",
    "    tss_distance >= -20000 & tss_distance < -10000 ~ -20,\n",
    "    tss_distance >= -10000 & tss_distance < 0 ~ -10,\n",
    "    tss_distance > 0 & tss_distance < 10000 ~ 10,\n",
    "    tss_distance >= 10000 & tss_distance < 20000 ~ 20,\n",
    "    tss_distance >= 20000 & tss_distance < 30000 ~ 30,\n",
    "    tss_distance >= 30000 & tss_distance < 40000 ~ 40,\n",
    "    tss_distance >= 40000 & tss_distance < 50000 ~ 50,\n",
    "    tss_distance >= 50000 & tss_distance < 60000 ~ 60,\n",
    "    tss_distance >= 60000 & tss_distance < 70000 ~ 70,\n",
    "    tss_distance >= 70000 & tss_distance < 80000 ~ 80,\n",
    "    tss_distance >= 80000 & tss_distance < 90000 ~ 90,\n",
    "    tss_distance >= 90000 & tss_distance <= 100000 ~ 100,\n",
    "    TRUE ~ NA_real_  # Handle edge cases\n",
    "  )) %>%\n",
    "  filter(!is.na(bins)) %>%  # Remove any NA bins\n",
    "  group_by(bins) %>%\n",
    "  summarise(\n",
    "    n = n(),\n",
    "    prop = n / 180,\n",
    "    Gene_type = \"cGenes\"\n",
    "  )\n",
    "\n",
    "cat(\"proportion of cres within 10kb, with CRISRPi targets\",df2$prop[df2$bins == -10] + df2$prop[df2$bins == 10],\"\\n\")\n",
    "\n",
    "# Add a zero for -1000kb\n",
    "extra = data.frame(bins\t= c(-90),\n",
    "                   n = c(0),\n",
    "                   prop = c(0),\n",
    "                   Gene_type = \"cGenes\")\n",
    "\n",
    "# Plot with ggplot2\n",
    "#png(\"plots/figure_plots/tss_distance_100kb.png\", width = 8, height = 8,units = \"in\", res = 300)\n",
    "svg(\"plots/figure_plots/tss_distance_100kb.svg\", width = 8, height = 8)\n",
    "\n",
    "colors <- c(\n",
    "  \"cGenes\" = \"#d35e60\",\n",
    "    \"eGenes\" = \"#76c0c1\",\n",
    "  \"GWAS genes\" = \"#014d64\"\n",
    ")\n",
    "\n",
    "tss_distance_plot2 = bind_rows(df2,df1,gwas) %>%\n",
    "  ggplot(aes(x = bins, y = prop, color = Gene_type)) +\n",
    "  geom_line(size = 1) +          # Add a line for each group\n",
    "  geom_point(size = 5) +         # Add dots at each data point\n",
    "  geom_vline(xintercept = 0, linetype = \"dotted\", color = \"black\", size = 0.8) + # Add a vertical dotted line at x = 0\n",
    "  scale_x_continuous(breaks = c(-100,-50,-10,10, 50, 100)) +\n",
    "  scale_color_manual(values = colors) + \n",
    "  labs(\n",
    "    title = \"\",\n",
    "    x = \"TSS Distance from TSS (kb)\",\n",
    "    y = \"Proportion of CRE-gene pairs\",\n",
    "    color = \"Gene Type\"\n",
    "  ) + ylim(0,0.35) +\n",
    "  theme_cowplot() +    \n",
    "  theme(\n",
    "    axis.title.x = element_text(size = 16),\n",
    "    axis.title.y = element_text(size = 16, margin = margin(r = 10)),\n",
    "    axis.text.x = element_text(size = 16, angle = 45, hjust = 1),\n",
    "    axis.text.y = element_text(size = 16),\n",
    "    legend.position = \"none\"\n",
    "  )\n",
    "\n",
    "tss_distance_plot2\n",
    "\n",
    "dev.off()"
   ]
  },
  {
   "cell_type": "code",
   "execution_count": 41,
   "id": "b6aaad1e-2e64-4fe6-b162-6f59fad0bf2d",
   "metadata": {},
   "outputs": [
    {
     "name": "stdout",
     "output_type": "stream",
     "text": [
      "[1] 26\n",
      "[1] 16\n",
      "\n",
      "\tWilcoxon rank sum test with continuity correction\n",
      "\n",
      "data:  cgene_metric and egene_metric\n",
      "W = 78164, p-value = 0.000208\n",
      "alternative hypothesis: true location shift is not equal to 0\n",
      "\n"
     ]
    },
    {
     "name": "stderr",
     "output_type": "stream",
     "text": [
      "Warning message:\n",
      "“\u001b[1m\u001b[22mRemoved 134 rows containing missing values (`geom_violin()`).”\n"
     ]
    },
    {
     "data": {
      "text/html": [
       "<strong>png:</strong> 2"
      ],
      "text/latex": [
       "\\textbf{png:} 2"
      ],
      "text/markdown": [
       "**png:** 2"
      ],
      "text/plain": [
       "png \n",
       "  2 "
      ]
     },
     "metadata": {},
     "output_type": "display_data"
    }
   ],
   "source": [
    "gene_metrics = fread(\"data/gene_metrics_vgh_202407.tsv\", fill=T)\n",
    "colnames(gene_metrics) = c(\"ensemble_id\", colnames(gene_metrics)[1:15])\n",
    "\n",
    "### Plot number of enhancers ###\n",
    "# Extract cgene_metric\n",
    "cgene_metric = gene_metrics[ensemble_id %in% cgenes, \"num_enh\"]\n",
    "cgene_metric = na.omit(cgene_metric)\n",
    "cgene_metric <- unlist(cgene_metric)\n",
    "cgene_metric <- as.numeric(cgene_metric)\n",
    "  \n",
    "# Extract egene_metric\n",
    "egene_metric = gene_metrics[ensemble_id %in% egenes, \"num_enh\"]\n",
    "egene_metric = na.omit(egene_metric)\n",
    "egene_metric <- unlist(egene_metric)\n",
    "egene_metric <- as.numeric(egene_metric)\n",
    "\n",
    "print(median(cgene_metric))\n",
    "print(median(egene_metric))\n",
    "\n",
    "test = wilcox.test(cgene_metric, egene_metric)\n",
    "print(test)\n",
    "\n",
    "  # Combine the data into a data frame for plotting\n",
    "combined_data <- data.frame(\n",
    "    Gene_type = c(rep(\"cGenes\", length(cgene_metric)), rep(\"eGenes\", length(egene_metric))),\n",
    "    Value = c(cgene_metric, egene_metric)\n",
    "  )\n",
    "\n",
    "  # Calculate the y-axis limits (just above the last outlier)\n",
    "stats_cgene <- boxplot.stats(cgene_metric)\n",
    "stats_egene <- boxplot.stats(egene_metric)\n",
    "  \n",
    "  # Max of the outliers for cgene and egene\n",
    "  # Check if there are outliers; if not, use the max values from the metrics\n",
    "if (length(stats_cgene$out) > 0 | length(stats_egene$out) > 0) {\n",
    "    max_outlier <- max(c(stats_cgene$out, stats_egene$out), na.rm = TRUE)\n",
    "} else {\n",
    "    max_outlier <- max(c(cgene_metric, egene_metric), na.rm = TRUE)\n",
    "}\n",
    "  \n",
    "# Set the lower limit as the minimum value and upper limit slightly above the max outlier\n",
    "min_value <- min(combined_data$Value, na.rm = TRUE)\n",
    "max_value <- max_outlier * 1.1  # 10% above the highest outlier\n",
    "\n",
    "#png(\"plots/figure_plots/enhancer_plot.png\", width = 4, height = 6,units = \"in\", res = 300)\n",
    "svg(\"plots/figure_plots/enhancer_plot.svg\", width = 4, height = 6)\n",
    "\n",
    "enhancer_plot <- combined_data %>%\n",
    "  filter(Value<130) %>% #improve plot look\n",
    "  ggplot(aes(x = Gene_type, y = Value, fill = Gene_type)) +\n",
    "  geom_violin(trim = FALSE, fill = \"light grey\", color = \"black\", alpha = 0.5) +  # Violin plot\n",
    "  geom_boxplot(width = 0.1, color = \"black\", outlier.shape = NA) +  # Boxplot inside violin plot\n",
    "  scale_fill_manual(values = colors) +\n",
    "  theme_cowplot() +\n",
    "  annotate(\"text\", x = 1.5, y = 175, label = paste0(\"P = \", round(test$p.value, 4)), size = 5, hjust = 0.5, family = \"sans\") +\n",
    "  labs(title = \"\", x = \"\", y = \"Number of enhancers\") +\n",
    "  ylim(0,175) +\n",
    "  theme(\n",
    "    axis.title.x = element_text(size = 16),\n",
    "    axis.title.y = element_text(size = 16, margin = margin(r = 10)),\n",
    "    axis.text.x = element_text(size = 16),\n",
    "    axis.text.y = element_text(size = 16),\n",
    "    legend.position = \"none\"\n",
    "  )\n",
    "enhancer_plot\n",
    "\n",
    "dev.off()"
   ]
  },
  {
   "cell_type": "code",
   "execution_count": 42,
   "id": "f7ce2e71-af5b-4f30-b2db-ea41954a22bc",
   "metadata": {},
   "outputs": [
    {
     "name": "stdout",
     "output_type": "stream",
     "text": [
      "     [,1] [,2]\n",
      "[1,]   44  155\n",
      "[2,]  109  574\n",
      "\n",
      "\tFisher's Exact Test for Count Data\n",
      "\n",
      "data:  matrix(c(a, b, c, d), nrow = 2, ncol = 2)\n",
      "p-value = 0.05501\n",
      "alternative hypothesis: true odds ratio is not equal to 1\n",
      "95 percent confidence interval:\n",
      " 0.9837918 2.2436478\n",
      "sample estimates:\n",
      "odds ratio \n",
      "  1.494149 \n",
      "\n"
     ]
    },
    {
     "data": {
      "text/html": [
       "<table class=\"dataframe\">\n",
       "<caption>A data.frame: 2 × 2</caption>\n",
       "<thead>\n",
       "\t<tr><th scope=col>Gene_type</th><th scope=col>Proportion</th></tr>\n",
       "\t<tr><th scope=col>&lt;fct&gt;</th><th scope=col>&lt;dbl&gt;</th></tr>\n",
       "</thead>\n",
       "<tbody>\n",
       "\t<tr><td>cGenes</td><td>0.2875817</td></tr>\n",
       "\t<tr><td>eGenes</td><td>0.2126200</td></tr>\n",
       "</tbody>\n",
       "</table>\n"
      ],
      "text/latex": [
       "A data.frame: 2 × 2\n",
       "\\begin{tabular}{ll}\n",
       " Gene\\_type & Proportion\\\\\n",
       " <fct> & <dbl>\\\\\n",
       "\\hline\n",
       "\t cGenes & 0.2875817\\\\\n",
       "\t eGenes & 0.2126200\\\\\n",
       "\\end{tabular}\n"
      ],
      "text/markdown": [
       "\n",
       "A data.frame: 2 × 2\n",
       "\n",
       "| Gene_type &lt;fct&gt; | Proportion &lt;dbl&gt; |\n",
       "|---|---|\n",
       "| cGenes | 0.2875817 |\n",
       "| eGenes | 0.2126200 |\n",
       "\n"
      ],
      "text/plain": [
       "  Gene_type Proportion\n",
       "1 cGenes    0.2875817 \n",
       "2 eGenes    0.2126200 "
      ]
     },
     "metadata": {},
     "output_type": "display_data"
    },
    {
     "data": {
      "text/html": [
       "<strong>png:</strong> 2"
      ],
      "text/latex": [
       "\\textbf{png:} 2"
      ],
      "text/markdown": [
       "**png:** 2"
      ],
      "text/plain": [
       "png \n",
       "  2 "
      ]
     },
     "metadata": {},
     "output_type": "display_data"
    }
   ],
   "source": [
    "### Plot pLI ###\n",
    "# Extract cgene_metric\n",
    "cgene_metric = gene_metrics[ensemble_id %in% cgenes, \"pLI\"]\n",
    "cgene_metric = na.omit(cgene_metric)\n",
    "cgene_metric <- unlist(cgene_metric)\n",
    "cgene_metric <- as.numeric(cgene_metric)\n",
    "  \n",
    "# Extract egene_metric\n",
    "egene_metric = gene_metrics[ensemble_id %in% egenes, \"pLI\"]\n",
    "egene_metric = na.omit(egene_metric)\n",
    "egene_metric <- unlist(egene_metric)\n",
    "egene_metric <- as.numeric(egene_metric)\n",
    "\n",
    "cgene_metric = ifelse(cgene_metric > 0.9, 1, 0)\n",
    "egene_metric = ifelse(egene_metric > 0.9, 1, 0)\n",
    "\n",
    "#Fisher exact test\n",
    "a = sum(cgene_metric == 1)\n",
    "b = sum(cgene_metric == 0)\n",
    "c = sum(egene_metric == 1)\n",
    "d = sum(egene_metric == 0)\n",
    "print(matrix(c(a,b,c,d),nrow=2,ncol=2))\n",
    "test = fisher.test(matrix(c(a,b,c,d),nrow=2,ncol=2))\n",
    "\n",
    "print(test)\n",
    "\n",
    "# Proportion of genes with pLI > 0.9\n",
    "data <- data.frame(\n",
    "  Gene_type = factor(c(\"cGenes\",\"eGenes\"), levels = c(\"cGenes\",\"eGenes\")),\n",
    "  Proportion = c(sum(cgene_metric == 1)/length(cgene_metric),sum(egene_metric == 1)/length(egene_metric)))\n",
    "data\n",
    "#png(\"plots/figure_plots/pli_plot.png\", width = 4, height = 6,units = \"in\", res = 300)\n",
    "svg(\"plots/figure_plots/pli_plot.svg\", width = 4, height = 6)\n",
    "\n",
    "pli_plot = ggplot(data, aes(x = Gene_type, y = Proportion, fill = Gene_type)) +\n",
    "  geom_bar(stat = \"identity\", color = \"black\", width = 0.5, position = position_dodge(width = 0.7)) +\n",
    "  labs(title = \"\", x = \"\", y = \"Proportion of genes \\n with pLi > 0.9\", color = \"Gene Type\") +\n",
    "  annotate(\"text\", x = 1.5, y = 0.35, label = paste0(\"P = \", formatC(test$p.value, format = \"e\", digits = 1)), size = 5, hjust = 0.5, family = \"sans\") +\n",
    "  scale_fill_manual(values = colors) +\n",
    "  theme_cowplot() +\n",
    "  theme(\n",
    "    axis.title.x = element_text(size = 16),\n",
    "    axis.title.y = element_text(size = 16, margin = margin(r = 10)),\n",
    "    axis.text.x = element_text(size = 16),\n",
    "    axis.text.y = element_text(size = 16),\n",
    "    legend.position = \"none\"\n",
    "  )\n",
    "\n",
    "pli_plot\n",
    "\n",
    "dev.off()"
   ]
  },
  {
   "cell_type": "code",
   "execution_count": 43,
   "id": "8119d5a6-c290-4736-ba0c-ff3c9c644541",
   "metadata": {},
   "outputs": [
    {
     "name": "stdout",
     "output_type": "stream",
     "text": [
      "[1] 0.4385\n",
      "[1] 0.366\n",
      "\n",
      "\tWilcoxon rank sum test with continuity correction\n",
      "\n",
      "data:  cgene_metric and egene_metric\n",
      "W = 56708, p-value = 0.005675\n",
      "alternative hypothesis: true location shift is not equal to 0\n",
      "\n"
     ]
    },
    {
     "name": "stderr",
     "output_type": "stream",
     "text": [
      "Warning message:\n",
      "“\u001b[1m\u001b[22mRemoved 264 rows containing missing values (`geom_violin()`).”\n",
      "Warning message:\n",
      "“\u001b[1m\u001b[22mRemoved 1 rows containing missing values (`geom_text()`).”\n"
     ]
    },
    {
     "data": {
      "text/html": [
       "<strong>png:</strong> 2"
      ],
      "text/latex": [
       "\\textbf{png:} 2"
      ],
      "text/markdown": [
       "**png:** 2"
      ],
      "text/plain": [
       "png \n",
       "  2 "
      ]
     },
     "metadata": {},
     "output_type": "display_data"
    }
   ],
   "source": [
    "### Plot Episcore ###\n",
    "# Extract cgene_metric\n",
    "cgene_metric = gene_metrics[ensemble_id %in% cgenes, \"Episcore\"]\n",
    "cgene_metric = na.omit(cgene_metric)\n",
    "cgene_metric <- unlist(cgene_metric)\n",
    "cgene_metric <- as.numeric(cgene_metric)\n",
    "  \n",
    "# Extract egene_metric\n",
    "egene_metric = gene_metrics[ensemble_id %in% egenes, \"Episcore\"]\n",
    "egene_metric = na.omit(egene_metric)\n",
    "egene_metric <- unlist(egene_metric)\n",
    "egene_metric <- as.numeric(egene_metric)\n",
    "\n",
    "print(median(cgene_metric))\n",
    "print(median(egene_metric))\n",
    "\n",
    "test = wilcox.test(cgene_metric, egene_metric)\n",
    "print(test)\n",
    "\n",
    "  # Combine the data into a data frame for plotting\n",
    "combined_data <- data.frame(\n",
    "    Gene_type = c(rep(\"cGenes\", length(cgene_metric)), rep(\"eGenes\", length(egene_metric))),\n",
    "    Value = c(cgene_metric, egene_metric)\n",
    "  )\n",
    "\n",
    "  # Calculate the y-axis limits (just above the last outlier)\n",
    "stats_cgene <- boxplot.stats(cgene_metric)\n",
    "stats_egene <- boxplot.stats(egene_metric)\n",
    "  \n",
    "  # Max of the outliers for cgene and egene\n",
    "  # Check if there are outliers; if not, use the max values from the metrics\n",
    "if (length(stats_cgene$out) > 0 | length(stats_egene$out) > 0) {\n",
    "    max_outlier <- max(c(stats_cgene$out, stats_egene$out), na.rm = TRUE)\n",
    "} else {\n",
    "    max_outlier <- max(c(cgene_metric, egene_metric), na.rm = TRUE)\n",
    "}\n",
    "  \n",
    "# Set the lower limit as the minimum value and upper limit slightly above the max outlier\n",
    "min_value <- min(combined_data$Value, na.rm = TRUE)\n",
    "max_value <- max_outlier * 1.1  # 10% above the highest outlier\n",
    "\n",
    "#png(\"plots/figure_plots/enhancer_plot.png\", width = 4, height = 6,units = \"in\", res = 300)\n",
    "svg(\"plots/figure_plots/Haploinsuficiency_plot.svg\", width = 4, height = 6)\n",
    "\n",
    "enhancer_plot <- combined_data %>%\n",
    "  ggplot(aes(x = Gene_type, y = Value, fill = Gene_type)) +\n",
    "  geom_violin(trim = FALSE, fill = \"light grey\", color = \"black\", alpha = 0.5) +  # Violin plot\n",
    "  geom_boxplot(width = 0.1, color = \"black\", outlier.shape = NA) +  # Boxplot inside violin plot\n",
    "  scale_fill_manual(values = colors) +\n",
    "  theme_cowplot() +\n",
    "  annotate(\"text\", x = 1.5, y = 1.05, label = paste0(\"P = \", formatC(test$p.value, format = \"e\", digits = 1)), size = 5, hjust = 0.5, family = \"sans\") +\n",
    "  labs(title = \"\", x = \"\", y = \"Haploinsuficiency score\") +\n",
    "  ylim(0,1) +\n",
    "  theme(\n",
    "    axis.title.x = element_text(size = 16),\n",
    "    axis.title.y = element_text(size = 16, margin = margin(r = 10)),\n",
    "    axis.text.x = element_text(size = 16),\n",
    "    axis.text.y = element_text(size = 16),\n",
    "    legend.position = \"none\"\n",
    "  )\n",
    "enhancer_plot\n",
    "\n",
    "dev.off()"
   ]
  },
  {
   "cell_type": "code",
   "execution_count": 46,
   "id": "99642020-8941-4219-9488-3227df1096dd",
   "metadata": {},
   "outputs": [
    {
     "data": {
      "text/html": [
       "18.0953"
      ],
      "text/latex": [
       "18.0953"
      ],
      "text/markdown": [
       "18.0953"
      ],
      "text/plain": [
       "[1] 18.0953"
      ]
     },
     "metadata": {},
     "output_type": "display_data"
    },
    {
     "data": {
      "text/html": [
       "2.865715"
      ],
      "text/latex": [
       "2.865715"
      ],
      "text/markdown": [
       "2.865715"
      ],
      "text/plain": [
       "[1] 2.865715"
      ]
     },
     "metadata": {},
     "output_type": "display_data"
    },
    {
     "name": "stdout",
     "output_type": "stream",
     "text": [
      "[1] 2.165588e-16\n"
     ]
    },
    {
     "name": "stderr",
     "output_type": "stream",
     "text": [
      "Warning message:\n",
      "“\u001b[1m\u001b[22mRemoved 193 rows containing missing values (`geom_violin()`).”\n"
     ]
    },
    {
     "data": {
      "text/html": [
       "<strong>png:</strong> 2"
      ],
      "text/latex": [
       "\\textbf{png:} 2"
      ],
      "text/markdown": [
       "**png:** 2"
      ],
      "text/plain": [
       "png \n",
       "  2 "
      ]
     },
     "metadata": {},
     "output_type": "display_data"
    }
   ],
   "source": [
    "### Expression violin plots ###\n",
    "K562_bulk = fread(\"/gpfs/commons/groups/lappalainen_lab/jmorris/210205_STINGseq-v2/data/K562_scRNAseq_bulkRNAseq.txt\") %>%\n",
    "  mutate(ensembl_gene_id = str_split_fixed(ENSG, \"\\\\.\",2)[,1])\n",
    "\n",
    "# Extract cgene_metric\n",
    "cgene_metric = K562_bulk$TPM[K562_bulk$ensembl_gene_id %in% cgenes & !K562_bulk$ensembl_gene_id %in% egenes]\n",
    "cgene_metric <- unlist(cgene_metric)\n",
    "cgene_metric <- as.numeric(cgene_metric)\n",
    "  \n",
    "# Extract egene_metric\n",
    "egene_df = data.frame(ensembl_gene_id = egenes) %>%\n",
    "  left_join(K562_bulk[,c(\"ensembl_gene_id\",\"TPM\")], \"ensembl_gene_id\")\n",
    "egene_df[is.na(egene_df)] = 0\n",
    "egene_metric <- unlist(egene_df$TPM[!egene_df$ensembl_gene_id %in% cgenes])\n",
    "egene_metric <- as.numeric(egene_metric)\n",
    "\n",
    "# Extract both metric\n",
    "  \n",
    "# Run Wilcoxon test\n",
    "median(cgene_metric)\n",
    "median(egene_metric)\n",
    "test = wilcox.test(cgene_metric, egene_metric)\n",
    "print(test$p.value)\n",
    "\n",
    "# Combine the data into a data frame for plotting\n",
    "combined_data <- data.frame(\n",
    "    Gene_type = c(rep(\"cGenes\", length(cgene_metric)), rep(\"eGenes\", length(egene_metric))),\n",
    "    Value = c(cgene_metric, egene_metric))\n",
    "\n",
    "#png(\"plots/figure_plots/k562_ex_plot.png\", width = 4, height = 6,units = \"in\", res = 300)\n",
    "svg(\"plots/figure_plots/k562_ex_plot.svg\", width = 4, height = 6)\n",
    "\n",
    "# K562 expression violin plot\n",
    "k562_ex_plot <- combined_data %>%\n",
    "  filter(Value<80) %>%\n",
    "  ggplot(aes(x = Gene_type, y = Value, fill = Gene_type)) +\n",
    "  geom_violin(trim = FALSE, fill = \"light grey\", color = \"black\", alpha = 0.5) +  # Violin plot\n",
    "  geom_boxplot(width = 0.1, color = \"black\", outlier.shape = NA) +  # Boxplot inside violin plot\n",
    "  scale_fill_manual(values = colors) +\n",
    "  theme_cowplot() +\n",
    "  ylim(0,80) +\n",
    "  annotate(\"text\", x = 1.5, y = 80, label = paste0(\"P = \", formatC(test$p.value, format = \"e\", digits = 1)), size = 5, hjust = 0.5, family = \"sans\") +\n",
    "  labs(title = \"\", x = \"\", y = \"K562 gene TPM\",  fill = \"Target genes\") +\n",
    "  theme(\n",
    "      plot.title = element_text(size = 16, face = \"plain\", margin = margin(b = 10), hjust = 0),\n",
    "      axis.title.y = element_text(size = 16, margin = margin(r = 10)),\n",
    "      axis.text.x = element_text(size = 16),\n",
    "      axis.text.y = element_text(size = 16),\n",
    "      legend.position = \"none\"\n",
    "  )\n",
    "\n",
    "k562_ex_plot\n",
    "\n",
    "dev.off()"
   ]
  },
  {
   "cell_type": "code",
   "execution_count": 38,
   "id": "09a0347b-def9-4de5-84f0-99b87dfba3e7",
   "metadata": {},
   "outputs": [
    {
     "data": {
      "text/html": [
       "12.7508"
      ],
      "text/latex": [
       "12.7508"
      ],
      "text/markdown": [
       "12.7508"
      ],
      "text/plain": [
       "[1] 12.7508"
      ]
     },
     "metadata": {},
     "output_type": "display_data"
    },
    {
     "data": {
      "text/html": [
       "5.03962"
      ],
      "text/latex": [
       "5.03962"
      ],
      "text/markdown": [
       "5.03962"
      ],
      "text/plain": [
       "[1] 5.03962"
      ]
     },
     "metadata": {},
     "output_type": "display_data"
    },
    {
     "name": "stdout",
     "output_type": "stream",
     "text": [
      "\n",
      "\tWilcoxon rank sum test with continuity correction\n",
      "\n",
      "data:  cgene_metric and egene_metric\n",
      "W = 45415, p-value = 0.001545\n",
      "alternative hypothesis: true location shift is not equal to 0\n",
      "\n"
     ]
    },
    {
     "name": "stderr",
     "output_type": "stream",
     "text": [
      "Warning message:\n",
      "“\u001b[1m\u001b[22mRemoved 189 rows containing missing values (`geom_violin()`).”\n"
     ]
    },
    {
     "data": {
      "text/html": [
       "<strong>png:</strong> 2"
      ],
      "text/latex": [
       "\\textbf{png:} 2"
      ],
      "text/markdown": [
       "**png:** 2"
      ],
      "text/plain": [
       "png \n",
       "  2 "
      ]
     },
     "metadata": {},
     "output_type": "display_data"
    }
   ],
   "source": [
    "### GTEx whole blood gene expression violin plot ###\n",
    "blood_tpm = fread(\"data/GTEx_Analysis_2017-06-05_v8_RNASeQCv1.1.9_gene_median_tpm.gct.gz\")[, c(\"Name\", \"Whole Blood\"), with = FALSE]\n",
    "blood_tpm$Name = str_split_fixed(blood_tpm$Name, \"\\\\.\", 2)[,1]\n",
    "\n",
    "# Extract cgene_metric\n",
    "cgene_metric = blood_tpm$`Whole Blood`[blood_tpm$Name %in% cgenes & !blood_tpm$Name %in% egenes]\n",
    "cgene_metric <- unlist(cgene_metric)\n",
    "cgene_metric <- as.numeric(cgene_metric)\n",
    "  \n",
    "# Extract egene_metric\n",
    "egene_metric = blood_tpm$`Whole Blood`[blood_tpm$Name %in% egenes & !blood_tpm$Name %in% cgenes]\n",
    "egene_metric <- unlist(egene_metric)\n",
    "egene_metric <- as.numeric(egene_metric)\n",
    "\n",
    "# Extract both metric\n",
    "  \n",
    "# Run Wilcoxon test\n",
    "median(cgene_metric)\n",
    "median(egene_metric)\n",
    "test = wilcox.test(cgene_metric, egene_metric)\n",
    "print(test)\n",
    "\n",
    "# Combine the data into a data frame for plotting\n",
    "combined_data <- data.frame(\n",
    "    Gene_type = c(rep(\"cGenes\", length(cgene_metric)), rep(\"eGenes\", length(egene_metric))),\n",
    "    Value = c(cgene_metric, egene_metric))\n",
    "\n",
    "#png(\"plots/figure_plots/blood_ex_plot.png\", width = 4, height = 6,units = \"in\", res = 300)\n",
    "svg(\"plots/figure_plots/blood_ex_plot.svg\", width = 4, height = 6)\n",
    "\n",
    "# blood expression violin plot\n",
    "blood_ex_plot <- combined_data %>%\n",
    "  filter(Value<80) %>%\n",
    "  ggplot(aes(x = Gene_type, y = Value, fill = Gene_type)) +\n",
    "  geom_violin(trim = FALSE, fill = \"light grey\", color = \"black\", alpha = 0.5) +  # Violin plot\n",
    "  geom_boxplot(width = 0.1, color = \"black\", outlier.shape = NA) +  # Boxplot inside violin plot\n",
    "  scale_fill_manual(values = colors) +\n",
    "  theme_cowplot() +\n",
    "  ylim(0,80) +\n",
    "  annotate(\"text\", x = 1.5, y = 80, label = paste0(\"P = \", formatC(test$p.value, format = \"e\", digits = 1)), size = 5, hjust = 0.5, family = \"sans\") +\n",
    "  labs(title = \"\", x = \"\", y = \"Blood gene TPM\",  fill = \"Target genes\") +\n",
    "  theme(\n",
    "      plot.title = element_text(size = 16, face = \"plain\", margin = margin(b = 10), hjust = 0),\n",
    "      axis.title.y = element_text(size = 16, margin = margin(r = 10)),\n",
    "      axis.text.x = element_text(size = 16),\n",
    "      axis.text.y = element_text(size = 16),\n",
    "      legend.position = \"none\"\n",
    "  )\n",
    "\n",
    "blood_ex_plot\n",
    "\n",
    "dev.off()"
   ]
  },
  {
   "cell_type": "code",
   "execution_count": 17,
   "id": "74f1884c-43d7-4d6c-a9a7-0ee4bb37f096",
   "metadata": {},
   "outputs": [
    {
     "name": "stdout",
     "output_type": "stream",
     "text": [
      "\n",
      "\tPearson's Chi-squared test\n",
      "\n",
      "data:  data_matrix\n",
      "X-squared = 33.78, df = 2, p-value = 4.622e-08\n",
      "\n"
     ]
    },
    {
     "data": {
      "text/html": [
       "<table class=\"dataframe\">\n",
       "<caption>A data.frame: 6 × 3</caption>\n",
       "<thead>\n",
       "\t<tr><th scope=col>Rank</th><th scope=col>Gene_type</th><th scope=col>percent</th></tr>\n",
       "\t<tr><th scope=col>&lt;fct&gt;</th><th scope=col>&lt;chr&gt;</th><th scope=col>&lt;dbl&gt;</th></tr>\n",
       "</thead>\n",
       "<tbody>\n",
       "\t<tr><td>1st </td><td>cGenes</td><td>0.8344828</td></tr>\n",
       "\t<tr><td>1st </td><td>eGenes</td><td>0.7184466</td></tr>\n",
       "\t<tr><td>2nd </td><td>cGenes</td><td>0.1379310</td></tr>\n",
       "\t<tr><td>2nd </td><td>eGenes</td><td>0.3417476</td></tr>\n",
       "\t<tr><td>&gt;2nd</td><td>cGenes</td><td>0.2344828</td></tr>\n",
       "\t<tr><td>&gt;2nd</td><td>eGenes</td><td>0.6155340</td></tr>\n",
       "</tbody>\n",
       "</table>\n"
      ],
      "text/latex": [
       "A data.frame: 6 × 3\n",
       "\\begin{tabular}{lll}\n",
       " Rank & Gene\\_type & percent\\\\\n",
       " <fct> & <chr> & <dbl>\\\\\n",
       "\\hline\n",
       "\t 1st  & cGenes & 0.8344828\\\\\n",
       "\t 1st  & eGenes & 0.7184466\\\\\n",
       "\t 2nd  & cGenes & 0.1379310\\\\\n",
       "\t 2nd  & eGenes & 0.3417476\\\\\n",
       "\t >2nd & cGenes & 0.2344828\\\\\n",
       "\t >2nd & eGenes & 0.6155340\\\\\n",
       "\\end{tabular}\n"
      ],
      "text/markdown": [
       "\n",
       "A data.frame: 6 × 3\n",
       "\n",
       "| Rank &lt;fct&gt; | Gene_type &lt;chr&gt; | percent &lt;dbl&gt; |\n",
       "|---|---|---|\n",
       "| 1st  | cGenes | 0.8344828 |\n",
       "| 1st  | eGenes | 0.7184466 |\n",
       "| 2nd  | cGenes | 0.1379310 |\n",
       "| 2nd  | eGenes | 0.3417476 |\n",
       "| &gt;2nd | cGenes | 0.2344828 |\n",
       "| &gt;2nd | eGenes | 0.6155340 |\n",
       "\n"
      ],
      "text/plain": [
       "  Rank Gene_type percent  \n",
       "1 1st  cGenes    0.8344828\n",
       "2 1st  eGenes    0.7184466\n",
       "3 2nd  cGenes    0.1379310\n",
       "4 2nd  eGenes    0.3417476\n",
       "5 >2nd cGenes    0.2344828\n",
       "6 >2nd eGenes    0.6155340"
      ]
     },
     "metadata": {},
     "output_type": "display_data"
    },
    {
     "data": {
      "text/html": [
       "<strong>png:</strong> 2"
      ],
      "text/latex": [
       "\\textbf{png:} 2"
      ],
      "text/markdown": [
       "**png:** 2"
      ],
      "text/plain": [
       "png \n",
       "  2 "
      ]
     },
     "metadata": {},
     "output_type": "display_data"
    }
   ],
   "source": [
    "### Closest genes barplots ###\n",
    "# Calculate proportion of significant genes in each CRE\n",
    "closest_cgene = cres_w_grnas %>% distinct(target_gene, .keep_all=T) %>% # Remove duplicate target-genes for different eqtl/gwas\n",
    " group_by(grna_target) %>% mutate(dis_rank = rank(abs(tss_distance))) %>% filter(significant ==1)\n",
    "one_cgene = length(unique(closest_cgene$grna_target[closest_cgene$dis_rank ==1]))/length(unique(closest_cgene$grna_target))\n",
    "two_cgene = length(unique(closest_cgene$grna_target[closest_cgene$dis_rank ==2]))/length(unique(closest_cgene$grna_target))\n",
    "three_cgene = length(unique(closest_cgene$grna_target[closest_cgene$dis_rank > 2]))/length(unique(closest_cgene$grna_target))\n",
    "\n",
    "# Same for eqtl\n",
    "closest_egene = cres_w_grnas_egene %>% filter(is.na(dis_rank) ==F) %>% arrange(dis_rank) %>% distinct(target_gene, .keep_all=T)\n",
    "one_egene = length(unique(closest_egene$grna_target[closest_egene$dis_rank ==1]))/length(unique(closest_egene$grna_target))\n",
    "two_egene = length(unique(closest_egene$grna_target[closest_egene$dis_rank ==2]))/length(unique(closest_egene$grna_target))\n",
    "three_egene = length(unique(closest_egene$grna_target[closest_egene$dis_rank >2]))/length(unique(closest_egene$grna_target))\n",
    "\n",
    "a = length(unique(closest_cgene$grna_target[closest_cgene$dis_rank ==1]))\n",
    "b = length(unique(closest_cgene$grna_target[closest_cgene$dis_rank ==2]))\n",
    "c = length(unique(closest_cgene$grna_target[closest_cgene$dis_rank > 2]))\n",
    "e = length(unique(closest_egene$grna_target[closest_egene$dis_rank ==1]))\n",
    "f = length(unique(closest_egene$grna_target[closest_egene$dis_rank ==2]))\n",
    "g = length(unique(closest_egene$grna_target[closest_egene$dis_rank >2]))\n",
    "\n",
    "# construct matrix for chi-square\n",
    "data_matrix <- matrix(c(a, b, c, d, e, f), \n",
    "                      nrow = 2, \n",
    "                      byrow = TRUE)\n",
    "\n",
    "rownames(data_matrix) <- c(\"cGenes\", \"eGenes\")\n",
    "colnames(data_matrix) <- c(\"one\", \"two\", \"more_two\")\n",
    "\n",
    "# Run Chi-Squared Test\n",
    "chi_test <- chisq.test(data_matrix)\n",
    "\n",
    "# Print results\n",
    "print(chi_test)\n",
    "\n",
    "# Barplot of gene distances\n",
    "closest_data <- data.frame(\n",
    "  Rank = factor(c(\"1st\",\"1st\",\"2nd\",\"2nd\",\">2nd\", \">2nd\"), levels = c(\"1st\", \"2nd\", \">2nd\")),\n",
    "  Gene_type = c(rep(c(\"cGenes\", \"eGenes\"),3)),\n",
    "  percent = c(one_cgene,one_egene,two_cgene,two_egene,\n",
    "              three_cgene,three_egene))\n",
    "\n",
    "closest_data\n",
    "\n",
    "#png(\"plots/figure_plots/closest_barplots.png\", width = 4, height = 6,units = \"in\", res = 300)\n",
    "svg(\"plots/figure_plots/closest_barplots.svg\", width = 4, height = 6)\n",
    "\n",
    "# Generate a bar plot for gene distances\n",
    "closest_barplots = ggplot(closest_data, aes(x = Rank, y = percent, fill = Gene_type)) +\n",
    "  geom_bar(stat = \"identity\", color = \"black\", width = 0.5, position = position_dodge(width = 0.7)) +\n",
    "  theme_minimal() +\n",
    "  scale_fill_manual(values = colors) +\n",
    "  labs(title = \"\", x = \"Gene distance rank\", y = \"Proportion of total CREs\") +\n",
    "  annotate(\"text\", x = 2.4, y = 0.80, label = paste0(\"P = \",formatC(chi_test$p.value, format = \"e\", digits = 1)), size = 5, hjust = 0.5) +\n",
    "  theme_cowplot() +\n",
    "  theme(\n",
    "    axis.title.x = element_text(size = 16),\n",
    "    axis.title.y = element_text(size = 16, margin = margin(r=10)),\n",
    "    axis.text.x = element_text(size = 16),\n",
    "    axis.text.y = element_text(size = 16),\n",
    "    legend.position = \"none\"\n",
    "  )\n",
    "closest_barplots\n",
    "\n",
    "dev.off()"
   ]
  },
  {
   "cell_type": "code",
   "execution_count": 46,
   "id": "32f4739c-9b97-488b-80dc-cfab771d5aaa",
   "metadata": {},
   "outputs": [
    {
     "name": "stdout",
     "output_type": "stream",
     "text": [
      "\n",
      "\tPearson's Chi-squared test\n",
      "\n",
      "data:  data_matrix\n",
      "X-squared = 93.163, df = 2, p-value < 2.2e-16\n",
      "\n"
     ]
    },
    {
     "data": {
      "text/html": [
       "<table class=\"dataframe\">\n",
       "<caption>A data.frame: 6 × 3</caption>\n",
       "<thead>\n",
       "\t<tr><th scope=col>n_Genes</th><th scope=col>Gene_type</th><th scope=col>Proportion</th></tr>\n",
       "\t<tr><th scope=col>&lt;fct&gt;</th><th scope=col>&lt;chr&gt;</th><th scope=col>&lt;dbl&gt;</th></tr>\n",
       "</thead>\n",
       "<tbody>\n",
       "\t<tr><td>1 </td><td>cGenes</td><td>0.82068966</td></tr>\n",
       "\t<tr><td>1 </td><td>eGenes</td><td>0.37669903</td></tr>\n",
       "\t<tr><td>2 </td><td>cGenes</td><td>0.13103448</td></tr>\n",
       "\t<tr><td>2 </td><td>eGenes</td><td>0.26407767</td></tr>\n",
       "\t<tr><td>2+</td><td>cGenes</td><td>0.04827586</td></tr>\n",
       "\t<tr><td>2+</td><td>eGenes</td><td>0.35922330</td></tr>\n",
       "</tbody>\n",
       "</table>\n"
      ],
      "text/latex": [
       "A data.frame: 6 × 3\n",
       "\\begin{tabular}{lll}\n",
       " n\\_Genes & Gene\\_type & Proportion\\\\\n",
       " <fct> & <chr> & <dbl>\\\\\n",
       "\\hline\n",
       "\t 1  & cGenes & 0.82068966\\\\\n",
       "\t 1  & eGenes & 0.37669903\\\\\n",
       "\t 2  & cGenes & 0.13103448\\\\\n",
       "\t 2  & eGenes & 0.26407767\\\\\n",
       "\t 2+ & cGenes & 0.04827586\\\\\n",
       "\t 2+ & eGenes & 0.35922330\\\\\n",
       "\\end{tabular}\n"
      ],
      "text/markdown": [
       "\n",
       "A data.frame: 6 × 3\n",
       "\n",
       "| n_Genes &lt;fct&gt; | Gene_type &lt;chr&gt; | Proportion &lt;dbl&gt; |\n",
       "|---|---|---|\n",
       "| 1  | cGenes | 0.82068966 |\n",
       "| 1  | eGenes | 0.37669903 |\n",
       "| 2  | cGenes | 0.13103448 |\n",
       "| 2  | eGenes | 0.26407767 |\n",
       "| 2+ | cGenes | 0.04827586 |\n",
       "| 2+ | eGenes | 0.35922330 |\n",
       "\n"
      ],
      "text/plain": [
       "  n_Genes Gene_type Proportion\n",
       "1 1       cGenes    0.82068966\n",
       "2 1       eGenes    0.37669903\n",
       "3 2       cGenes    0.13103448\n",
       "4 2       eGenes    0.26407767\n",
       "5 2+      cGenes    0.04827586\n",
       "6 2+      eGenes    0.35922330"
      ]
     },
     "metadata": {},
     "output_type": "display_data"
    },
    {
     "data": {
      "text/html": [
       "<strong>png:</strong> 2"
      ],
      "text/latex": [
       "\\textbf{png:} 2"
      ],
      "text/markdown": [
       "**png:** 2"
      ],
      "text/plain": [
       "png \n",
       "  2 "
      ]
     },
     "metadata": {},
     "output_type": "display_data"
    }
   ],
   "source": [
    "### Number of genes barplots ###\n",
    "cgenes_per_cre = cres_w_grnas %>% filter(significant ==1) %>% distinct(target_gene, .keep_all=T) %>% group_by(grna_target) %>% \n",
    "    summarise(n = n())\n",
    "egenes_per_cre = cres_w_grnas_egene %>% distinct(target_gene, .keep_all=T) %>% group_by(grna_target) %>% \n",
    "    summarise(n = n())\n",
    "\n",
    "# Chi-squared test\n",
    "a = sum(cgenes_per_cre$n ==1)\n",
    "b = sum(cgenes_per_cre$n ==2)\n",
    "c = sum(cgenes_per_cre$n > 2)\n",
    "d = sum(egenes_per_cre$n ==1)\n",
    "e = sum(egenes_per_cre$n ==2)\n",
    "f = sum(egenes_per_cre$n > 2)\n",
    "\n",
    "# construct matrix for chi-square\n",
    "data_matrix <- matrix(c(a, b, c, d, e, f), \n",
    "                      nrow = 2, \n",
    "                      byrow = TRUE)\n",
    "\n",
    "rownames(data_matrix) <- c(\"cgenes\", \"egenes\")\n",
    "colnames(data_matrix) <- c(\"one\", \"two\", \"more_two\")\n",
    "\n",
    "# Run Chi-Squared Test\n",
    "chi_test <- chisq.test(data_matrix)\n",
    "\n",
    "# Print results\n",
    "print(chi_test)\n",
    "\n",
    "# Barplot of gene distances\n",
    "num_genes_data <- data.frame(\n",
    "  n_Genes = factor(c(\"1\",\"1\",\"2\",\"2\",\"2+\", \"2+\"), levels = c(\"1\", \"2\", \"2+\")),\n",
    "  Gene_type = c(rep(c(\"cGenes\", \"eGenes\"),3)),\n",
    "  Proportion = c(sum(cgenes_per_cre$n ==1)/nrow(cgenes_per_cre),\n",
    "              sum(egenes_per_cre$n ==1)/nrow(egenes_per_cre),\n",
    "              sum(cgenes_per_cre$n ==2)/nrow(cgenes_per_cre),\n",
    "              sum(egenes_per_cre$n ==2)/nrow(egenes_per_cre),\n",
    "              sum(cgenes_per_cre$n > 2)/nrow(cgenes_per_cre),\n",
    "              sum(egenes_per_cre$n > 2)/nrow(egenes_per_cre)))\n",
    "\n",
    "num_genes_data\n",
    "\n",
    "# Generate a bar plot for gene distances\n",
    "#png(\"plots/figure_plots/num_genes_barplot.png\", width = 4, height = 6,units = \"in\", res = 300)\n",
    "svg(\"plots/figure_plots/num_genes_barplot.svg\", width = 4, height = 6)\n",
    "\n",
    "num_genes_barplot = ggplot(num_genes_data, aes(x = n_Genes, y = Proportion, fill = Gene_type)) +\n",
    "  geom_bar(stat = \"identity\", color = \"black\", width = 0.5, position = position_dodge(width = 0.7)) +\n",
    "  theme_minimal() +\n",
    "  labs(title = \"\", x = \"Number of genes\", y = \"Proportion of total CREs\") +\n",
    "  annotate(\"text\", x = 2.4, y = 0.80, label = paste0(\"P = \",formatC(chi_test$p.value, format = \"e\", digits = 1)), size = 5, hjust = 0.5) +\n",
    "  scale_fill_manual(values = colors) +\n",
    "  theme_cowplot() +\n",
    "  theme(\n",
    "    axis.title.x = element_text(size = 16),\n",
    "    axis.title.y = element_text(size = 16, margin = margin(r=10)),\n",
    "    axis.text.x = element_text(size = 16),\n",
    "    axis.text.y = element_text(size = 16),\n",
    "    legend.position = \"none\"\n",
    "  )\n",
    "num_genes_barplot\n",
    "dev.off()"
   ]
  },
  {
   "cell_type": "code",
   "execution_count": 34,
   "id": "628bc44c-d3f2-4bae-b521-4a2e3c1b3cf4",
   "metadata": {},
   "outputs": [
    {
     "data": {
      "text/html": [
       "<strong>png:</strong> 2"
      ],
      "text/latex": [
       "\\textbf{png:} 2"
      ],
      "text/markdown": [
       "**png:** 2"
      ],
      "text/plain": [
       "png \n",
       "  2 "
      ]
     },
     "metadata": {},
     "output_type": "display_data"
    }
   ],
   "source": [
    "###################\n",
    "### Upset plot ####\n",
    "###################\n",
    "library(UpSetR)\n",
    "\n",
    "# Define the sc_qtls\n",
    "sc_qtls <- c(\"NK_cells\", \"B_cells\", \"CD4_T_cells\", \"CD8_T_cells\", \"DC_mean\", \"Mono_cells\", \"Other_cells\", \"Other_T_cells\")\n",
    "\n",
    "overlapping_eqtls <- cres_w_grnas_egene %>%\n",
    "  filter(target_gene %in% overlapping_cres_cgene)\n",
    "\n",
    "# Step 1: Data Preparation\n",
    "venn_df <- overlapping_eqtls %>%\n",
    "  mutate(eqtl = ifelse(eqtl == \"GTEx\", \"blood\", eqtl)) %>%\n",
    "  mutate(group = ifelse(eqtl %in% c(\"blood\", \"GTEx\"), \"Bulk tissue eQTL\", \n",
    "                        ifelse(eqtl %in% sc_qtls, \"Sc eQTL\", \"Bulk cell type eQTL\")),\n",
    "         group = factor(group, levels = unique(group))) %>%\n",
    "  mutate(uniq_id = paste(group, ensembl_id, grna_target, sep = \"_\")) %>% \n",
    "  distinct(uniq_id, .keep_all = TRUE)  # Remove multiple GWAS per gene and eQTL\n",
    "\n",
    "# Step 2: Create a binary matrix for the UpSet plot\n",
    "upset_data <- venn_df %>%\n",
    "  select(target_gene, group) %>%\n",
    "  distinct() %>%\n",
    "  mutate(value = 1) %>%  # Mark presence with a value of 1\n",
    "  spread(key = group, value = value, fill = 0)  # Create a wide format with binary values\n",
    "\n",
    "# Convert to a matrix format\n",
    "upset_matrix <- as.data.frame(upset_data)\n",
    "upset_matrix <- upset_matrix[, -1]  # Remove target_gene column, as we just need binary columns\n",
    "\n",
    "#png(filename = \"plots/figure_plots/upset_plot.png\", width = 10, height = 8, units = \"in\", res = 300)\n",
    "svg(filename = \"plots/figure_plots/upset_plot.svg\", width = 10, height = 8)\n",
    "\n",
    "# Step 3: Create the UpSet Plot\n",
    "upset_plot = upset(upset_matrix, \n",
    "      sets = c(\"Bulk tissue eQTL\", \"Sc eQTL\", \"Bulk cell type eQTL\"), \n",
    "      order.by = \"freq\", \n",
    "      decreasing = T,\n",
    "      keep.order = FALSE, \n",
    "      main.bar.color = \"black\", \n",
    "      sets.bar.color = rev(c(\"#01a2d9\",\"#6794a7\",\"#014d64\")),\n",
    "      text.scale = c(3, 3, 2, 2, 3.3, 3),\n",
    "      mainbar.y.label = \"Number of intersecting \\n eGenes with cGenes\",\n",
    "      sets.x.label = \"Total \",\n",
    "      query.legend = \"bottom\",\n",
    "    )\n",
    "upset_plot\n",
    "\n",
    "dev.off()"
   ]
  },
  {
   "cell_type": "code",
   "execution_count": 24,
   "id": "a54e627f-ced4-4005-8d75-3dc4c9b7ac5a",
   "metadata": {},
   "outputs": [
    {
     "name": "stdout",
     "output_type": "stream",
     "text": [
      "\n",
      "\tWilcoxon rank sum test with continuity correction\n",
      "\n",
      "data:  plot_df$minor_AF[plot_df$unique_CREs == \"cGenes\"] and plot_df$minor_AF[plot_df$unique_CREs == \"eGenes\"]\n",
      "W = 7729, p-value = 0.02902\n",
      "alternative hypothesis: true location shift is not equal to 0\n",
      "\n"
     ]
    }
   ],
   "source": [
    "#################################################\n",
    "### Make boxplot of MAFs of intersecting snps ###\n",
    "#################################################\n",
    "# Load targeted GWAS variants\n",
    "cres_w_grnas = fread(\"cres_with_grnas.txt\")\n",
    "# flip alleles to match gwas snp ids\n",
    "temp = gsub(\"_\", \":\", cres_w_grnas$finemap_snp_intersect_grna)\n",
    "temp = str_split_fixed(temp,\":\",4)[,2]\n",
    "cres_w_grnas$snp_pos = paste0(cres_w_grnas$chr, \":\", temp)\n",
    "# Load sumstats to obtain MAFs\n",
    "# Load GWAS summary stats\n",
    "sumstats = fread(\"/gpfs/commons/groups/lappalainen_lab/sghatan/stingseq_eqtl_overlap/data/UKBB_sumstats/30000_formatted.tsv\")\n",
    "sumstats$snp_pos = paste0(sumstats$Chr,\":\",sumstats$Pos)\n",
    "sumstats_filtered = sumstats %>% filter(snp_pos %in% cres_w_grnas$snp_pos)\n",
    "\n",
    "cres_w_grnas_egene = fread(\"cres_with_grna_eqtls.txt\")\n",
    "\n",
    "grna_cres_w_cgenes = unique(cres_w_grnas$grna_target[cres_w_grnas$significant == 1])\n",
    "grna_cres_w_egenes = unique(cres_w_grnas_egene$grna_target)\n",
    "overlapping_cres = grna_cres_w_cgenes[grna_cres_w_cgenes %in% grna_cres_w_egenes]\n",
    "\n",
    "plot_df = cres_w_grnas %>%\n",
    "  filter(grna_target %in% c(grna_cres_w_cgenes, grna_cres_w_egenes) & !grna_target %in% overlapping_cres) %>%\n",
    "  distinct(grna_target, .keep_all=T) %>%\n",
    "  mutate(unique_CREs = ifelse(grna_target %in% grna_cres_w_cgenes, \"cGenes\",\"eGenes\")) %>%\n",
    "  left_join(sumstats_filtered[,c(\"snp_pos\",\"minor_AF\")], \"snp_pos\")\n",
    "\n",
    "test = wilcox.test(plot_df$minor_AF[plot_df$unique_CREs == \"cGenes\"], plot_df$minor_AF[plot_df$unique_CREs == \"eGenes\"])\n",
    "print(test)"
   ]
  },
  {
   "cell_type": "code",
   "execution_count": 23,
   "id": "376743d7-05b8-449a-8df0-9cdc112b0c00",
   "metadata": {},
   "outputs": [
    {
     "data": {
      "text/html": [
       "48"
      ],
      "text/latex": [
       "48"
      ],
      "text/markdown": [
       "48"
      ],
      "text/plain": [
       "[1] 48"
      ]
     },
     "metadata": {},
     "output_type": "display_data"
    },
    {
     "data": {
      "text/html": [
       "418"
      ],
      "text/latex": [
       "418"
      ],
      "text/markdown": [
       "418"
      ],
      "text/plain": [
       "[1] 418"
      ]
     },
     "metadata": {},
     "output_type": "display_data"
    }
   ],
   "source": [
    "length(plot_df$minor_AF[plot_df$unique_CREs == \"cgenes\"])\n",
    "length(plot_df$minor_AF[plot_df$unique_CREs == \"egenes\"])"
   ]
  },
  {
   "cell_type": "code",
   "execution_count": 26,
   "id": "9ab1f3e6-882e-4293-8b4e-7363c8bb41d7",
   "metadata": {},
   "outputs": [
    {
     "name": "stderr",
     "output_type": "stream",
     "text": [
      "Warning message:\n",
      "“\u001b[1m\u001b[22mRemoved 187 rows containing missing values (`geom_violin()`).”\n"
     ]
    },
    {
     "data": {
      "text/html": [
       "<strong>png:</strong> 2"
      ],
      "text/latex": [
       "\\textbf{png:} 2"
      ],
      "text/markdown": [
       "**png:** 2"
      ],
      "text/plain": [
       "png \n",
       "  2 "
      ]
     },
     "metadata": {},
     "output_type": "display_data"
    }
   ],
   "source": [
    "#png(\"plots/figure_plots/boxplot_maf.png\", width = 4, height = 6,units = \"in\", res = 300)\n",
    "svg(\"plots/figure_plots/boxplot_maf.svg\", width = 4, height = 6)\n",
    "\n",
    "boxplot_maf = plot_df %>%\n",
    "  filter(minor_AF < 0.40) %>%\n",
    "  ggplot(aes(x = unique_CREs, y = minor_AF, fill = unique_CREs)) +\n",
    "  geom_violin(trim = FALSE, fill = \"light grey\", color = \"black\", alpha = 0.5) +  # Violin plot\n",
    "  geom_boxplot(width = 0.1, color = \"black\", outlier.shape = NA) +  # Boxplot inside violin plot\n",
    "  scale_fill_manual(values = colors) +\n",
    "  theme_cowplot() +\n",
    "  ylim(0,0.6) +\n",
    "  annotate(\"text\", x = 1.5, y = 0.6, label = paste0(\"P = \",formatC(test$p.value, format = \"e\", digits = 1)), size = 5, hjust = 0.5) +\n",
    "  labs(title = \"\", x = \"\", y = \"Minor allele frequency\", fill = \"Gene type\") +\n",
    "  theme(\n",
    "      plot.title = element_text(size = 16, face = \"plain\", margin = margin(b = 10), hjust = 0),\n",
    "      axis.title.y = element_text(size = 16, margin = margin(r = 10)),\n",
    "      axis.text.x = element_text(size = 16),\n",
    "      axis.text.y = element_text(size = 16),\n",
    "      legend.position = \"none\"\n",
    "  )\n",
    "boxplot_maf\n",
    "\n",
    "dev.off()"
   ]
  },
  {
   "cell_type": "code",
   "execution_count": null,
   "id": "9e980382-97cd-4fcb-95c6-128acabc2924",
   "metadata": {},
   "outputs": [],
   "source": []
  },
  {
   "cell_type": "code",
   "execution_count": 28,
   "id": "e1659778-8483-4188-8157-d561b8ad1776",
   "metadata": {},
   "outputs": [
    {
     "data": {
      "text/html": [
       "<table class=\"dataframe\">\n",
       "<caption>A data.frame: 2 × 2</caption>\n",
       "<thead>\n",
       "\t<tr><th scope=col>Gene_type</th><th scope=col>Proportion</th></tr>\n",
       "\t<tr><th scope=col>&lt;fct&gt;</th><th scope=col>&lt;dbl&gt;</th></tr>\n",
       "</thead>\n",
       "<tbody>\n",
       "\t<tr><td>cGenes</td><td>0.2149533</td></tr>\n",
       "\t<tr><td>eGenes</td><td>0.1125265</td></tr>\n",
       "</tbody>\n",
       "</table>\n"
      ],
      "text/latex": [
       "A data.frame: 2 × 2\n",
       "\\begin{tabular}{ll}\n",
       " Gene\\_type & Proportion\\\\\n",
       " <fct> & <dbl>\\\\\n",
       "\\hline\n",
       "\t cGenes & 0.2149533\\\\\n",
       "\t eGenes & 0.1125265\\\\\n",
       "\\end{tabular}\n"
      ],
      "text/markdown": [
       "\n",
       "A data.frame: 2 × 2\n",
       "\n",
       "| Gene_type &lt;fct&gt; | Proportion &lt;dbl&gt; |\n",
       "|---|---|\n",
       "| cGenes | 0.2149533 |\n",
       "| eGenes | 0.1125265 |\n",
       "\n"
      ],
      "text/plain": [
       "  Gene_type Proportion\n",
       "1 cGenes    0.2149533 \n",
       "2 eGenes    0.1125265 "
      ]
     },
     "metadata": {},
     "output_type": "display_data"
    },
    {
     "data": {
      "text/html": [
       "<strong>png:</strong> 2"
      ],
      "text/latex": [
       "\\textbf{png:} 2"
      ],
      "text/markdown": [
       "**png:** 2"
      ],
      "text/plain": [
       "png \n",
       "  2 "
      ]
     },
     "metadata": {},
     "output_type": "display_data"
    }
   ],
   "source": [
    "#### LOOK AT MENDELIAN ENRICHMENT FILE FOR how numbers for PLOT are generated ####\n",
    "\n",
    "\n",
    "data <- data.frame(\n",
    "  Gene_type = factor(c(\"cGenes\",\"eGenes\"), levels = c(\"cGenes\",\"eGenes\")),\n",
    "  Proportion = c(23/(23+84),53/(53+418)))\n",
    "\n",
    "data\n",
    "\n",
    "#png(\"plots/figure_plots/burden_gene_barplot.png\", width = 4, height = 6,units = \"in\", res = 300)\n",
    "svg(\"plots/figure_plots/burden_gene_barplot.svg\", width = 4, height = 6)\n",
    "\n",
    "burden_gene_barplot = ggplot(data, aes(x = Gene_type, y = Proportion, fill = Gene_type)) +\n",
    "  geom_bar(stat = \"identity\", color = \"black\", width = 0.5, position = position_dodge(width = 0.7)) +\n",
    "  theme_minimal() +\n",
    "  labs(title = \"\", x = \"\", y = \"Proportion of genes classified \\n as gold-standard genes\") +\n",
    "  annotate(\"text\", x = 1.5, y = 0.24, label = paste0(\"P = \", \"6.8e-03\"), size = 5, hjust = 0.5, family = \"sans\") +\n",
    "  scale_fill_manual(values = colors) +\n",
    "  theme_cowplot() +\n",
    "  theme(\n",
    "    axis.title.x = element_text(size = 16),\n",
    "    axis.title.y = element_text(size = 16, margin = margin(r = 10)),\n",
    "    axis.text.x = element_text(size = 16),\n",
    "    axis.text.y = element_text(size = 16),\n",
    "    legend.position = \"none\"\n",
    "  )\n",
    "\n",
    "burden_gene_barplot\n",
    "\n",
    "dev.off()"
   ]
  },
  {
   "cell_type": "code",
   "execution_count": 31,
   "id": "e848bd09-341b-4224-9aaa-6b46951e7aec",
   "metadata": {},
   "outputs": [
    {
     "name": "stdout",
     "output_type": "stream",
     "text": [
      "\n",
      "\tWilcoxon rank sum test with continuity correction\n",
      "\n",
      "data:  pp.h4.df$mean_PP.H4[pp.h4.df$gene_intersect == 1] and pp.h4.df$mean_PP.H4[pp.h4.df$gene_intersect == 0]\n",
      "W = 57098, p-value = 1.434e-06\n",
      "alternative hypothesis: true location shift is not equal to 0\n",
      "\n"
     ]
    },
    {
     "name": "stderr",
     "output_type": "stream",
     "text": [
      "Warning message:\n",
      "“\u001b[1m\u001b[22mRemoved 304 rows containing missing values (`geom_violin()`).”\n",
      "Warning message:\n",
      "“\u001b[1m\u001b[22mRemoved 1 rows containing missing values (`geom_text()`).”\n"
     ]
    },
    {
     "data": {
      "text/html": [
       "<strong>png:</strong> 2"
      ],
      "text/latex": [
       "\\textbf{png:} 2"
      ],
      "text/markdown": [
       "**png:** 2"
      ],
      "text/plain": [
       "png \n",
       "  2 "
      ]
     },
     "metadata": {},
     "output_type": "display_data"
    }
   ],
   "source": [
    "###\n",
    "pp.h4.df = cres_w_grnas_egene %>%\n",
    "  mutate(gene_intersect = as.factor(ifelse(target_gene %in% overlapping_target_genes,1,0))) %>%\n",
    "  group_by(target_gene) %>% mutate(mean_PP.H4 = mean(PP.H4.abf,na.rm=T)) %>% # Take the average PP.H4 from multiple GWAS\n",
    "  mutate(scaled_mean_PP.H4 = mean_PP.H4*2) %>% # scale pp.h4 so that 0.5 is one unit change\n",
    "  distinct(target_gene,.keep_all=T) %>%\n",
    "  ungroup()\n",
    "\n",
    "test = wilcox.test(pp.h4.df$mean_PP.H4[pp.h4.df$gene_intersect==1], pp.h4.df$mean_PP.H4[pp.h4.df$gene_intersect == 0])\n",
    "print(test)\n",
    "\n",
    "pp.h4.plot = pp.h4.df %>% \n",
    "  mutate(gene_intersect = ifelse(gene_intersect == 1, \"eQTL with\\ncGene\", \"eQTL without\\ncGene\")) %>%\n",
    "  ggplot(aes(x = gene_intersect, y = mean_PP.H4, fill = gene_intersect)) +\n",
    "  geom_violin(trim = FALSE, fill = \"light grey\", color = \"black\", alpha = 0.5) +  # Violin plot\n",
    "  geom_boxplot(width = 0.1, color = \"black\", outlier.shape = NA) +  # Boxplot inside violin plot\n",
    "  theme_cowplot() +\n",
    "  annotate(\"text\", x = 1.5, y = 0.2, label = paste0(\"P = \", formatC(test$p.value, format = \"e\", digits = 1)), size = 5, hjust = 0.5, family = \"sans\") +\n",
    "  ylim(0.5, 1) +\n",
    "  xlab(\"\") +\n",
    "  ylab(\"Colocalization probability\") +\n",
    "  scale_fill_manual(name = \"\",\n",
    "                    values = c(\"eQTL without\\ncGene\" = \"#76c0c1\", \"eQTL with\\ncGene\" = \"#8e6c8a\"),\n",
    "                    labels = c(\"eQTL without cGene\", \"eQTL with cGene\")\n",
    "                   ) +  # Define custom colors\n",
    "  theme(\n",
    "    plot.title = element_text(size = 16, face = \"plain\", margin = margin(b = 10), hjust = 0),\n",
    "      axis.title.y = element_text(size = 16, margin = margin(r = 10)),\n",
    "      axis.text.x = element_text(size = 16),\n",
    "      axis.text.y = element_text(size = 16),\n",
    "      legend.position = \"none\"\n",
    "  )\n",
    "#png(\"plots/figure_plots/pp.h4_violin_plot.png\", width = 4, height = 6, units = \"in\", res = 300)\n",
    "svg(\"plots/figure_plots/pp.h4_violin_plot.svg\", width = 4, height = 6)\n",
    "pp.h4.plot\n",
    "dev.off()"
   ]
  },
  {
   "cell_type": "code",
   "execution_count": 44,
   "id": "025fa007-fef4-4c22-945f-1092e48251f3",
   "metadata": {},
   "outputs": [
    {
     "name": "stdout",
     "output_type": "stream",
     "text": [
      "     [,1] [,2]\n",
      "[1,]   56   12\n",
      "[2,]   97   67\n"
     ]
    },
    {
     "data": {
      "text/html": [
       "<strong>png:</strong> 2"
      ],
      "text/latex": [
       "\\textbf{png:} 2"
      ],
      "text/markdown": [
       "**png:** 2"
      ],
      "text/plain": [
       "png \n",
       "  2 "
      ]
     },
     "metadata": {},
     "output_type": "display_data"
    },
    {
     "name": "stdout",
     "output_type": "stream",
     "text": [
      "     [,1] [,2]\n",
      "[1,]   65    3\n",
      "[2,]  220    7\n"
     ]
    },
    {
     "data": {
      "text/html": [
       "<strong>png:</strong> 2"
      ],
      "text/latex": [
       "\\textbf{png:} 2"
      ],
      "text/markdown": [
       "**png:** 2"
      ],
      "text/plain": [
       "png \n",
       "  2 "
      ]
     },
     "metadata": {},
     "output_type": "display_data"
    }
   ],
   "source": [
    "cres_w_grnas = fread(\"cres_with_grnas.txt\") %>%\n",
    "  mutate(target_gene = paste0(grna_target,\"_\",ensembl_id))\n",
    "cres_w_grnas_egene = fread(\"cres_with_grna_eqtls.txt\") %>%\n",
    "  mutate(target_gene = paste0(grna_target,\"_\",ensembl_id))\n",
    "\n",
    "total_cres = unique(cres_w_grnas$grna_target)\n",
    "grna_cres_w_cgenes = unique(cres_w_grnas$grna_target[cres_w_grnas$significant == 1])\n",
    "target_cgenes = unique(cres_w_grnas$target_gene[cres_w_grnas$significant == 1])\n",
    "cgenes = unique(cres_w_grnas$ensembl_id[cres_w_grnas$significant == 1])\n",
    "grna_cres_w_egenes = unique(cres_w_grnas_egene$grna_target)\n",
    "target_egenes = unique(cres_w_grnas_egene$target_gene)\n",
    "egenes = unique(cres_w_grnas_egene$ensembl_id)\n",
    "cres_no_target = unique(cres_w_grnas$grna_target[!cres_w_grnas$grna_target %in% c(grna_cres_w_cgenes,grna_cres_w_egenes)])\n",
    "overlapping_cres = grna_cres_w_cgenes[grna_cres_w_cgenes %in% grna_cres_w_egenes]\n",
    "overlapping_cres_cgene = unique(cres_w_grnas$target_gene[cres_w_grnas$grna_target %in% overlapping_cres & cres_w_grnas$significant == 1])\n",
    "overlapping_cres_egene = unique(cres_w_grnas_egene$target_gene[cres_w_grnas_egene$grna_target %in% overlapping_cres])\n",
    "overlapping_target_genes = overlapping_cres_cgene[overlapping_cres_cgene %in% overlapping_cres_egene]\n",
    "\n",
    "# Load power\n",
    "crispr.power = fread(\"cres_with_grnas_power.txt\") %>%\n",
    "  mutate(target_gene = paste0(grna_target,\"_\",ensembl_id)) %>%\n",
    "  filter(effect_size == 0.85)\n",
    "\n",
    "eqtl.power = fread(\"power_results/eqtl.power.combined.txt\") %>%\n",
    "  mutate(target_gene = paste0(grna_target,\"_\",ensembl_id)) \n",
    "\n",
    "# Filter to overlapping significant CREs\n",
    "crispr.power.overlap = crispr.power %>%\n",
    "  distinct(target_gene, .keep_all=T) %>%\n",
    "  filter(target_gene %in% c(overlapping_cres_egene,overlapping_cres_cgene)) %>%\n",
    "  mutate(intersect = as.factor(ifelse(target_gene %in% overlapping_target_genes, \"Intersection\", \"No intersection\")))\n",
    "\n",
    "#Fisher exact test\n",
    "a = sum(crispr.power.overlap$power > 0.79 & crispr.power.overlap$intersect == \"Intersection\")\n",
    "b = sum(crispr.power.overlap$power > 0.79 & crispr.power.overlap$intersect == \"No intersection\")\n",
    "c = sum(crispr.power.overlap$power < 0.8 & crispr.power.overlap$intersect == \"Intersection\")\n",
    "d = sum(crispr.power.overlap$power < 0.8 & crispr.power.overlap$intersect == \"No intersection\")\n",
    "print(matrix(c(a,b,c,d),nrow=2,ncol=2))\n",
    "test = fisher.test(matrix(c(a,b,c,d),nrow=2,ncol=2))\n",
    "\n",
    "# Proportion of genes with p > 0.8\n",
    "data <- data.frame(\n",
    "  Gene_type = factor(c(\"Intersection\", \"No \\n intersection\"), levels = c(\"Intersection\", \"No \\n intersection\")),\n",
    "  Proportion = c(nrow(crispr.power.overlap[power > 0.79 & intersect == \"Intersection\",])/nrow(crispr.power.overlap[intersect == \"Intersection\",]),\n",
    "                 nrow(crispr.power.overlap[power > 0.79 & intersect == \"No intersection\",])/nrow(crispr.power.overlap[intersect == \"No intersection\",])))\n",
    "\n",
    "svg(\"plots/figure_plots/crispri_power_barplot.svg\", width = 4, height = 6)\n",
    "\n",
    "ggplot(data, aes(x = Gene_type, y = Proportion)) +\n",
    "  geom_bar(stat = \"identity\", color = \"black\", fill = \"#d35e60\", width = 0.5, position = position_dodge(width = 0.7)) +\n",
    "  labs(title = \"\", x = \"\", y = \"Proportion of CRE-genes \\n with CRISPRi power ≥ 0.80\", color = \"Gene Type\") +\n",
    "  annotate(\"text\", x = 1.5, y = 0.9, label = paste0(\"P = \", formatC(test$p.value, format = \"e\", digits = 1)), size = 5, hjust = 0.5, family = \"sans\") +\n",
    "  theme_cowplot() +\n",
    "  theme(\n",
    "    axis.title.x = element_text(size = 16),\n",
    "    axis.title.y = element_text(size = 16, margin = margin(r = 10)),\n",
    "    axis.text.x = element_text(size = 16),\n",
    "    axis.text.y = element_text(size = 16),\n",
    "    legend.position = \"none\"\n",
    "  )\n",
    "\n",
    "dev.off()\n",
    "\n",
    "eqtl.power.overlap = eqtl.power %>%\n",
    "  distinct(target_gene, .keep_all=T) %>%\n",
    "  filter(target_gene %in% c(overlapping_cres_egene,overlapping_cres_cgene)) %>%\n",
    "  mutate(intersect = as.factor(ifelse(target_gene %in% overlapping_target_genes, \"Intersection\", \"No intersection\")))\n",
    "\n",
    "#Fisher exact test\n",
    "a = sum(eqtl.power.overlap$eQTL.power > 0.79 & eqtl.power.overlap$intersect == \"Intersection\")\n",
    "b = sum(eqtl.power.overlap$eQTL.power > 0.79 & eqtl.power.overlap$intersect == \"No intersection\")\n",
    "c = sum(eqtl.power.overlap$eQTL.power < 0.8 & eqtl.power.overlap$intersect == \"Intersection\")\n",
    "d = sum(eqtl.power.overlap$eQTL.power < 0.8 & eqtl.power.overlap$intersect == \"No intersection\")\n",
    "print(matrix(c(a,b,c,d),nrow=2,ncol=2))\n",
    "test = fisher.test(matrix(c(a,b,c,d),nrow=2,ncol=2))\n",
    "\n",
    "# Proportion of genes with p > 0.8\n",
    "data <- data.frame(\n",
    "  Gene_type = factor(c(\"Intersection\", \"No \\n intersection\"), levels = c(\"Intersection\", \"No \\n intersection\")),\n",
    "  Proportion = c(nrow(eqtl.power.overlap[eQTL.power > 0.79 & intersect == \"Intersection\",])/nrow(eqtl.power.overlap[intersect == \"Intersection\",]),\n",
    "                 nrow(eqtl.power.overlap[eQTL.power > 0.79 & intersect == \"No intersection\",])/nrow(eqtl.power.overlap[intersect == \"No intersection\",])))\n",
    "\n",
    "svg(\"plots/figure_plots/eqtl_power_barplot.svg\", width = 4, height = 6)\n",
    "\n",
    "ggplot(data, aes(x = Gene_type, y = Proportion)) +\n",
    "  geom_bar(stat = \"identity\", color = \"black\", fill = \"#76c0c1\", width = 0.5, position = position_dodge(width = 0.7)) +\n",
    "  labs(title = \"\", x = \"\", y = \"Proportion of CRE-genes \\n with eQTL power ≥ 0.80\") +\n",
    "  annotate(\"text\", x = 1.5, y = 1.02, label = paste0(\"P = \", formatC(test$p.value, format = \"e\", digits = 1)), size = 5, hjust = 0.5, family = \"sans\") +\n",
    "  theme_cowplot() +\n",
    "  theme(\n",
    "    axis.title.x = element_text(size = 16),\n",
    "    axis.title.y = element_text(size = 16, margin = margin(r = 10)),\n",
    "    axis.text.x = element_text(size = 16),\n",
    "    axis.text.y = element_text(size = 16),\n",
    "    legend.position = \"none\"\n",
    "  )\n",
    "\n",
    "dev.off()"
   ]
  },
  {
   "cell_type": "code",
   "execution_count": 57,
   "id": "c121a547-15a1-4c8a-bd8f-4dbcbc7559c1",
   "metadata": {},
   "outputs": [
    {
     "data": {
      "image/png": "[encoded data removed]",
      "text/plain": [
       "plot without title"
      ]
     },
     "metadata": {
      "image/png": {
       "height": 420,
       "width": 420
      }
     },
     "output_type": "display_data"
    }
   ],
   "source": [
    "library(ggtranscript)\n",
    "\n",
    "df = data.frame(seqnames = rep(1,5),\n",
    "                start = seq(1,1000000,100000),\n",
    "                end = seq(1,1000000,100000) + 10000,\n",
    "                strand = \"+\",\n",
    "                type = \"exons\",\n",
    "                gene_name = \"Gene\",\n",
    "                transcript_name = \"transcript_name\",\n",
    "                transcript_biotype = \"transcript_biotype\")\n",
    "\n",
    "links_df = data.frame(seqnames = rep(1,10),\n",
    "                      start = rep(500000,10),\n",
    "                      end = df$start,\n",
    "                      strand = \"+\",\n",
    "                      n_studies = c(2,5,10, 30, 1,4, 5,1 ,1 ,1))\n",
    "\n",
    "links_df_crispr = data.frame(seqnames = 1,\n",
    "                      start = 500000,\n",
    "                      end = 700000,\n",
    "                      strand = \"+\",\n",
    "                      n_studies = c(1))\n",
    "\n",
    "df %>% ggplot(aes(\n",
    "        xstart = start,\n",
    "        xend = end,\n",
    "        y = \"\",\n",
    "    )) + geom_range(fill = \"black\", height = 0.025) +\n",
    "  geom_junction(\n",
    "    data = links_df,\n",
    "    aes(size = n_studies),\n",
    "    junction.orientation = \"alternating\",\n",
    "    junction.y.max = 0.2,\n",
    "    angle = 90,\n",
    "    ncp = 100, \n",
    "    colour = \"#00BFC4\") +\n",
    "  geom_junction(\n",
    "    data = links_df_crispr,\n",
    "    aes(size = n_studies),\n",
    "    junction.orientation = \"alternating\",\n",
    "    junction.y.max = 0.2,\n",
    "    angle = 90,\n",
    "    ncp = 100, \n",
    "    colour = \"#F8766D\") +\n",
    "  ylab(\"\") + xlab(\"Position on chr 1\") +\n",
    "  scale_size_continuous(range = c(0.2, 2), guide = \"none\") +\n",
    "  theme_minimal()"
   ]
  },
  {
   "cell_type": "code",
   "execution_count": 37,
   "id": "fb17c188-6544-4fc2-85c8-bfcb45eac168",
   "metadata": {},
   "outputs": [
    {
     "data": {
      "text/html": [
       "<table class=\"dataframe\">\n",
       "<caption>A tibble: 5 × 5</caption>\n",
       "<thead>\n",
       "\t<tr><th scope=col>seqnames</th><th scope=col>start</th><th scope=col>end</th><th scope=col>strand</th><th scope=col>mean_count</th></tr>\n",
       "\t<tr><th scope=col>&lt;fct&gt;</th><th scope=col>&lt;int&gt;</th><th scope=col>&lt;int&gt;</th><th scope=col>&lt;fct&gt;</th><th scope=col>&lt;dbl&gt;</th></tr>\n",
       "</thead>\n",
       "<tbody>\n",
       "\t<tr><td>chr21</td><td>31659787</td><td>31666448</td><td>+</td><td>0.4632353</td></tr>\n",
       "\t<tr><td>chr21</td><td>31659842</td><td>31660554</td><td>+</td><td>0.8308824</td></tr>\n",
       "\t<tr><td>chr21</td><td>31659842</td><td>31663794</td><td>+</td><td>0.3161765</td></tr>\n",
       "\t<tr><td>chr21</td><td>31659842</td><td>31667257</td><td>+</td><td>4.3529412</td></tr>\n",
       "\t<tr><td>chr21</td><td>31660351</td><td>31663789</td><td>+</td><td>0.3235294</td></tr>\n",
       "</tbody>\n",
       "</table>\n"
      ],
      "text/latex": [
       "A tibble: 5 × 5\n",
       "\\begin{tabular}{lllll}\n",
       " seqnames & start & end & strand & mean\\_count\\\\\n",
       " <fct> & <int> & <int> & <fct> & <dbl>\\\\\n",
       "\\hline\n",
       "\t chr21 & 31659787 & 31666448 & + & 0.4632353\\\\\n",
       "\t chr21 & 31659842 & 31660554 & + & 0.8308824\\\\\n",
       "\t chr21 & 31659842 & 31663794 & + & 0.3161765\\\\\n",
       "\t chr21 & 31659842 & 31667257 & + & 4.3529412\\\\\n",
       "\t chr21 & 31660351 & 31663789 & + & 0.3235294\\\\\n",
       "\\end{tabular}\n"
      ],
      "text/markdown": [
       "\n",
       "A tibble: 5 × 5\n",
       "\n",
       "| seqnames &lt;fct&gt; | start &lt;int&gt; | end &lt;int&gt; | strand &lt;fct&gt; | mean_count &lt;dbl&gt; |\n",
       "|---|---|---|---|---|\n",
       "| chr21 | 31659787 | 31666448 | + | 0.4632353 |\n",
       "| chr21 | 31659842 | 31660554 | + | 0.8308824 |\n",
       "| chr21 | 31659842 | 31663794 | + | 0.3161765 |\n",
       "| chr21 | 31659842 | 31667257 | + | 4.3529412 |\n",
       "| chr21 | 31660351 | 31663789 | + | 0.3235294 |\n",
       "\n"
      ],
      "text/plain": [
       "  seqnames start    end      strand mean_count\n",
       "1 chr21    31659787 31666448 +      0.4632353 \n",
       "2 chr21    31659842 31660554 +      0.8308824 \n",
       "3 chr21    31659842 31663794 +      0.3161765 \n",
       "4 chr21    31659842 31667257 +      4.3529412 \n",
       "5 chr21    31660351 31663789 +      0.3235294 "
      ]
     },
     "metadata": {},
     "output_type": "display_data"
    }
   ],
   "source": [
    "sod1_junctions"
   ]
  }
 ],
 "metadata": {
  "kernelspec": {
   "display_name": "R",
   "language": "R",
   "name": "ir"
  },
  "language_info": {
   "codemirror_mode": "r",
   "file_extension": ".r",
   "mimetype": "text/x-r-source",
   "name": "R",
   "pygments_lexer": "r",
   "version": "4.3.1"
  }
 },
 "nbformat": 4,
 "nbformat_minor": 5
}
